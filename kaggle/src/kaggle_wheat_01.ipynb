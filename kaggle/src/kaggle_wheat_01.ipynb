{
 "cells": [
  {
   "cell_type": "markdown",
   "metadata": {},
   "source": [
    "# Kaggle Global-Wheat-Detection Dataset <a class=\"anchor\" id=\"top\"></a>\n",
    "\n",
    "https://www.kaggle.com/c/global-wheat-detection\n",
    "\n",
    "## Table of Content\n",
    "* [Visualization Helpers](#visu_helpers)\n",
    "* [Data Helpers](#data_helpers)\n",
    "* [Prepare Data](#prepare_data)\n",
    "* [Visualize Data](#visualize_data)\n",
    "* [Generate Model](#generate_model)\n",
    "* [Train Model](#train_model)\n",
    "* [Show Results)(#show_results)\n",
    "\n",
    "### Useful Notebooks\n"
   ]
  },
  {
   "cell_type": "code",
   "execution_count": null,
   "metadata": {},
   "outputs": [],
   "source": [
    "# imports\n",
    "import numpy as np\n",
    "import pandas as pd"
   ]
  },
  {
   "cell_type": "markdown",
   "metadata": {},
   "source": [
    "# Visualization Helpers <a class=\"anchor\" id=\"visu_helpers\"></a> \n",
    "[got to top](#to)\n"
   ]
  },
  {
   "cell_type": "code",
   "execution_count": null,
   "metadata": {},
   "outputs": [],
   "source": [
    "\"\"\"@package visu_helpers\n",
    "\n",
    "  @brief Helper functions to visualize data (e.g. bounding boxes)\n",
    "  \n",
    "  @author Maximilian Harr <maximilian.harr@gmail.com>\n",
    "  @date 01.06.2020\n",
    "\n",
    "  @bug\n",
    "  @warning\n",
    "  @todo\n",
    " \n",
    "\"\"\"\n",
    "\n",
    "def plot_boundingbox(data_box, image_str):\n",
    "    \"\"\"\n",
    "    plot_boundingbox Plot image with bounding boxes\n",
    "        @param data_box: xx\n",
    "        @param_image_str: xx\n",
    "        @return: xx\n",
    "    \"\"\"\n",
    "    \n",
    "    # Check input parameter\n",
    "    if not type(data_box) == str and not type(image_str) == :\n",
    "        raise ValueError('Wrong datatype provided')\n",
    "        \n",
    "    # Get image and it's bounding boxes\n",
    "    image = io.imread(image_str)\n",
    "    bbox_all = get_img_bbox(data_box[data_box.image_id == image_str])\n",
    "    \n",
    "    # Plot data\n",
    "    fig, ax = plt.subplots(1)\n",
    "    ax.imshow(image)\n",
    "    \n",
    "    for bbox in bbox_all.reshape(-1,4):\n",
    "        rect = patches.Rectangle((bbox[0], bbox[1]), bbox[2], bbox[3],linewidth=1,edgecolor='r',facecolor='none')                    \n",
    "        ax.add_patch(rect)\n",
    "    \n",
    "    plt.show()"
   ]
  },
  {
   "cell_type": "code",
   "execution_count": null,
   "metadata": {},
   "outputs": [],
   "source": [
    "\"\"\"@package test_visu_helpers\n",
    "\n",
    "  @brief Unittest for visu helpers\n",
    "  \n",
    "  @author Maximilian Harr <maximilian.harr@gmail.com>\n",
    "  @date 01.06.2020\n",
    "\n",
    "  @bug\n",
    "  @warning\n",
    "  @todo\n",
    " \n",
    "\"\"\"\n",
    "\n",
    "# IMPORTS ########################################################################################\n",
    "import unittest\n",
    "import math\n",
    "import numpy as np\n",
    "\n",
    "# CLASSES ########################################################################################\n",
    "\n",
    "class TestVisuHelpers(unittest.TestCase):\n",
    "\n",
    "    def test_get_array_from_string(self):\n",
    "        array = get_array_from_string(\"[1.2, 2.3, 3.4]\")\n",
    "        \n",
    "        self.assertEqual( array[0], 1.2 )\n",
    "        self.assertEqual( array[1], 2.3 )\n",
    "        self.assertEqual( array[2], 3.4 )\n",
    "\n",
    "# FUNCTIONS ######################################################################################\n",
    "\n",
    "\n",
    "# MAIN ###########################################################################################\n",
    "if __name__ == '__main__':\n",
    "    #unittest.main()\n",
    "    unittest.main(argv=[''], verbosity=2, exit=False)\n"
   ]
  },
  {
   "cell_type": "markdown",
   "metadata": {},
   "source": [
    "# Data Helpers <a class=\"anchor\" id=\"data_helpers\"></a>\n",
    "[got to top](#top)"
   ]
  },
  {
   "cell_type": "code",
   "execution_count": null,
   "metadata": {},
   "outputs": [],
   "source": [
    "\"\"\"@package data_helpers\n",
    "\n",
    "  @brief Helper functions to convert text data (e.g. csv etc)\n",
    "  \n",
    "  @author Maximilian Harr <maximilian.harr@gmail.com>\n",
    "  @date 29.05.2020\n",
    "\n",
    "  @bug\n",
    "  @warning\n",
    "  @todo\n",
    " \n",
    "\"\"\"\n",
    "\n",
    "## IMPORTS #######################################################################################\n",
    "import numpy as np\n",
    "import scipy.io\n",
    "from skimage import io, exposure\n",
    "import matplotlib.pyplot as plt\n",
    "\n",
    "## CLASSES #######################################################################################\n",
    "\n",
    "## FUNCTIONS #####################################################################################\n",
    "\n",
    "def get_array_from_string(datastring: str) -> np.array([]):\n",
    "    \"\"\"\n",
    "    get_array_from_string Reads array from string and returns it as np.array\n",
    "        @param array_str: string of arrays, e.g. \"[1, 2, 3]\"\n",
    "        @return: np.array\n",
    "    \"\"\"\n",
    "\n",
    "    # Check input parameter\n",
    "    if not type(datastring) == str:\n",
    "        raise ValueError('Wrong datatype provided')\n",
    "    \n",
    "    # Extract paranthesis from string\n",
    "    datastring = datastring.replace(\"[\", \"\")\n",
    "    datastring = datastring.replace(\"]\", \"\")\n",
    "\n",
    "    data_array = np.array([])\n",
    "    data_array = datastring.split(\",\")\n",
    "    \n",
    "    # Convert to float\n",
    "    data_array = [float(e) for e in data_array]\n",
    "    \n",
    "    return data_array\n",
    "\n",
    "def get_img_bbox(data):\n",
    "    \"\"\"\n",
    "    get_img_bbox Get bbox arrays from (cropped) pandas (train.csv)\n",
    "        @param data: xxx\n",
    "        @return: np.array\n",
    "    \"\"\"\n",
    "    \n",
    "    # Check input parameter\n",
    "    if not type(data) == str:\n",
    "        raise ValueError('Wrong datatype provided')\n",
    "        \n",
    "    bbox_all = np.array([])\n",
    "    \n",
    "    # Iterate boxes\n",
    "    for index, row in data.iterrows():\n",
    "        bbox_f = get_array_from_string( row['bbox'] )\n",
    "        bbox_all = np.concatenate([bbox_all, bbox_f])\n",
    "\n",
    "    return bbox_all"
   ]
  },
  {
   "cell_type": "code",
   "execution_count": null,
   "metadata": {},
   "outputs": [],
   "source": [
    "\"\"\"@package test_data_helpers\n",
    "\n",
    "  @brief Unittest for data helpers\n",
    "  \n",
    "  @author Maximilian Harr <maximilian.harr@gmail.com>\n",
    "  @date 29.05.2020\n",
    "\n",
    "  @bug\n",
    "  @warning\n",
    "  @todo\n",
    " \n",
    "\"\"\"\n",
    "\n",
    "# IMPORTS ########################################################################################\n",
    "import unittest\n",
    "import math\n",
    "import numpy as np\n",
    "\n",
    "# CLASSES ########################################################################################\n",
    "\n",
    "class TestDataHelpers(unittest.TestCase):\n",
    "\n",
    "    def test_get_array_from_string(self):\n",
    "        array = get_array_from_string(\"[1.2, 2.3, 3.4]\")\n",
    "        \n",
    "        self.assertEqual( array[0], 1.2 )\n",
    "        self.assertEqual( array[1], 2.3 )\n",
    "        self.assertEqual( array[2], 3.4 )\n",
    "\n",
    "# FUNCTIONS ######################################################################################\n",
    "\n",
    "\n",
    "# MAIN ###########################################################################################\n",
    "if __name__ == '__main__':\n",
    "    #unittest.main()\n",
    "    unittest.main(argv=[''], verbosity=2, exit=False)\n"
   ]
  },
  {
   "cell_type": "markdown",
   "metadata": {},
   "source": [
    "# Prepare Data <a class=\"anchor\" id=\"prepare_data\"></a>\n",
    "[got to top](#top)"
   ]
  },
  {
   "cell_type": "code",
   "execution_count": null,
   "metadata": {},
   "outputs": [],
   "source": []
  },
  {
   "cell_type": "code",
   "execution_count": null,
   "metadata": {},
   "outputs": [],
   "source": []
  },
  {
   "cell_type": "markdown",
   "metadata": {},
   "source": [
    "# Visualize Data <a class=\"anchor\" id=\"visualize_data\"></a>\n",
    "[got to top](#top)"
   ]
  },
  {
   "cell_type": "code",
   "execution_count": null,
   "metadata": {},
   "outputs": [],
   "source": []
  },
  {
   "cell_type": "code",
   "execution_count": null,
   "metadata": {},
   "outputs": [],
   "source": [
    "# "
   ]
  },
  {
   "cell_type": "markdown",
   "metadata": {},
   "source": [
    "# Generate Model <a class=\"anchor\" id=\"generate_model\"></a>\n",
    "[got to top](#top)"
   ]
  },
  {
   "cell_type": "code",
   "execution_count": null,
   "metadata": {},
   "outputs": [],
   "source": []
  },
  {
   "cell_type": "code",
   "execution_count": null,
   "metadata": {},
   "outputs": [],
   "source": []
  },
  {
   "cell_type": "markdown",
   "metadata": {},
   "source": [
    "# Train Model <a class=\"anchor\" id=\"train_model\"></a>\n",
    "[got to top](#top)"
   ]
  },
  {
   "cell_type": "code",
   "execution_count": null,
   "metadata": {},
   "outputs": [],
   "source": []
  },
  {
   "cell_type": "markdown",
   "metadata": {},
   "source": [
    "# Show Results <a class=\"anchor\" id=\"show_results\"></a>\n",
    "[got to top](#top)"
   ]
  },
  {
   "cell_type": "code",
   "execution_count": null,
   "metadata": {},
   "outputs": [],
   "source": []
  },
  {
   "cell_type": "code",
   "execution_count": null,
   "metadata": {},
   "outputs": [],
   "source": []
  },
  {
   "cell_type": "code",
   "execution_count": null,
   "metadata": {},
   "outputs": [],
   "source": [
    "array = \"1\"\n",
    "array = wheat_helpers.get_array_from_string(\"[1, 2, 3]\")\n",
    "print(array[1])"
   ]
  },
  {
   "cell_type": "code",
   "execution_count": null,
   "metadata": {},
   "outputs": [],
   "source": [
    "kaggledata_root = \"../../res/data\" # Leave empty for upload on kaggle"
   ]
  },
  {
   "cell_type": "code",
   "execution_count": null,
   "metadata": {},
   "outputs": [],
   "source": [
    "#read csv and show head of csv\n",
    "data_box = pd.read_csv(kaggledata_root + \"/kaggle/input/global-wheat-detection/train.csv\")\n",
    "data_box.head()\n",
    "\n",
    "wheat_helpers.plot_boundingbox(data_box, kaggledata_root + '/kaggle/input/global-wheat-detection/train/b6ab77fd7.jpg')"
   ]
  },
  {
   "cell_type": "code",
   "execution_count": null,
   "metadata": {},
   "outputs": [],
   "source": [
    "# Display sample image\n",
    "import matplotlib.image as mpimg\n",
    "import matplotlib.pyplot as plt\n",
    "img = mpimg.imread(kaggledata_root + \"/kaggle/input/global-wheat-detection/train/b6ab77fd7.jpg\")\n",
    "plt.imshow(img)"
   ]
  },
  {
   "cell_type": "code",
   "execution_count": null,
   "metadata": {},
   "outputs": [],
   "source": []
  }
 ],
 "metadata": {
  "kernelspec": {
   "display_name": "Python 3",
   "language": "python",
   "name": "python3"
  },
  "language_info": {
   "codemirror_mode": {
    "name": "ipython",
    "version": 3
   },
   "file_extension": ".py",
   "mimetype": "text/x-python",
   "name": "python",
   "nbconvert_exporter": "python",
   "pygments_lexer": "ipython3",
   "version": "3.6.9"
  }
 },
 "nbformat": 4,
 "nbformat_minor": 4
}
