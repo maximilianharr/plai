{
 "cells": [
  {
   "cell_type": "markdown",
   "metadata": {},
   "source": [
    "### Hyperparameter\n",
    "Parameter that influence the model structure.\n",
    "- C and gamma of SVM\n",
    "- k of kNN\n",
    "\n",
    "#### sklearn\n",
    "https://scikit-learn.org/stable/modules/classes.html  \n",
    "See hyper-parameter optimizers  \n",
    "- GridSearchCV\n",
    "- ParameterGrid\n",
    "- ParameterSampler\n",
    "- RandomizedSearchCV\n",
    "- fit_grid_point\n",
    "\n",
    "#### Dataset split\n",
    "\n",
    "##### Validation dataset\n",
    "Used to find ideal hyperparameters (e.g. 20%).\n",
    "\n",
    "##### Training dataset\n",
    "Used to find ideal model parameters (e.g. 60%).\n",
    "\n",
    "##### Test dataset\n",
    "Used to compute model performance (e.g. 20%)."
   ]
  },
  {
   "cell_type": "code",
   "execution_count": null,
   "metadata": {},
   "outputs": [],
   "source": [
    "# import\n",
    "import numpy as np\n",
    "import pandas as pd\n",
    "\n",
    "from sklearn.model_selection import train_test_split\n",
    "from sklearn.model_selection import GridSearchCV\n",
    "from sklearn.neighbors import KNeighborsClassifier\n",
    "from sklearn.pipeline import Pipeline\n",
    "from sklearn.preprocessing import StandardScaler\n",
    "from sklearn.svm import SVC"
   ]
  },
  {
   "cell_type": "code",
   "execution_count": null,
   "metadata": {},
   "outputs": [],
   "source": [
    "# Read CSV\n",
    "df = pd.read_csv(\"../res/classification.csv\")\n",
    "df.head()"
   ]
  },
  {
   "cell_type": "code",
   "execution_count": null,
   "metadata": {},
   "outputs": [],
   "source": [
    "# Prepare data\n",
    "x = df[[\"age\", \"interest\"]].values\n",
    "y = df[\"success\"].values"
   ]
  },
  {
   "cell_type": "code",
   "execution_count": null,
   "metadata": {},
   "outputs": [],
   "source": [
    "# Create pipeline\n",
    "pipeline = Pipeline([\n",
    "    (\"scaler\", StandardScaler()),\n",
    "    (\"knn\", KNeighborsClassifier(n_neighbors = 1))\n",
    "])\n",
    "\n",
    "# Change value in pipeline\n",
    "pipeline.set_params(knn__n_neighbors = 3)"
   ]
  },
  {
   "cell_type": "code",
   "execution_count": null,
   "metadata": {},
   "outputs": [],
   "source": [
    "# Train model in pipeline\n",
    "x_train, x_test, y_train, y_test = train_test_split(x, y, random_state = 42, test_size = 0.25)\n",
    "\n",
    "pipeline.fit(x_train, y_train)\n",
    "pipeline.score(x_test, y_test)"
   ]
  },
  {
   "cell_type": "code",
   "execution_count": null,
   "metadata": {},
   "outputs": [],
   "source": [
    "# Find best hyperparameter k for KNeighborsClassifier\n",
    "clf = GridSearchCV(pipeline, param_grid = {\n",
    "    \"knn__n_neighbors\":[1, 2, 3, 4, 5, 6, 7, 8, 9, 10]\n",
    "})\n",
    "\n",
    "clf.fit(x, y)\n",
    "\n",
    "print(clf.best_params_)\n",
    "print(clf.best_score_)"
   ]
  },
  {
   "cell_type": "code",
   "execution_count": null,
   "metadata": {},
   "outputs": [],
   "source": [
    "# Split data into [train, test, validate]\n",
    "# Automatically done by GridSearchCV !!!"
   ]
  },
  {
   "cell_type": "code",
   "execution_count": null,
   "metadata": {},
   "outputs": [],
   "source": [
    "# Project: Find best hyperparameter C, Gamma for SVM\n",
    "\n",
    "# Create pipeline\n",
    "pipeline = Pipeline([\n",
    "    (\"scaler\", StandardScaler()),\n",
    "    (\"svm_harry\", SVC())\n",
    "])\n",
    "\n",
    "# Create GridSearch\n",
    "clf = GridSearchCV(pipeline, param_grid = {\n",
    "    \"svm_harry__C\":[0.01, 0.1, 1.0, 10.0, 100.0],\n",
    "    \"svm_harry__gamma\":[0.01, 0.1, 1.0, 10.0, 100.0]    \n",
    "})\n",
    "\n",
    "# Optimize model in GridSearch\n",
    "clf.fit(x, y)\n",
    "\n",
    "print(clf.best_params_)\n",
    "print(clf.best_score_)"
   ]
  },
  {
   "cell_type": "code",
   "execution_count": null,
   "metadata": {},
   "outputs": [],
   "source": []
  },
  {
   "cell_type": "code",
   "execution_count": null,
   "metadata": {},
   "outputs": [],
   "source": []
  },
  {
   "cell_type": "code",
   "execution_count": null,
   "metadata": {},
   "outputs": [],
   "source": []
  }
 ],
 "metadata": {
  "kernelspec": {
   "display_name": "Python 3",
   "language": "python",
   "name": "python3"
  },
  "language_info": {
   "codemirror_mode": {
    "name": "ipython",
    "version": 3
   },
   "file_extension": ".py",
   "mimetype": "text/x-python",
   "name": "python",
   "nbconvert_exporter": "python",
   "pygments_lexer": "ipython3",
   "version": "3.6.9"
  }
 },
 "nbformat": 4,
 "nbformat_minor": 4
}
