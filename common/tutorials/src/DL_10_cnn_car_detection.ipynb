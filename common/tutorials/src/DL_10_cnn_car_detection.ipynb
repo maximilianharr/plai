{
 "cells": [
  {
   "cell_type": "markdown",
   "metadata": {},
   "source": [
    "# Train car detector \n",
    "https://www.cs.toronto.edu/~kriz/cifar.html\n",
    "<img src=\"../doc/cifar_dataset.png\" alt=\"Cifar Dataset\" width=\"300\"/>"
   ]
  },
  {
   "cell_type": "code",
   "execution_count": null,
   "metadata": {},
   "outputs": [],
   "source": [
    "# imports\n",
    "import albumentations as A\n",
    "import cv2\n",
    "\n",
    "import keras\n",
    "from keras.layers import Dense, Dropout, Flatten, Conv2D, MaxPooling2D\n",
    "from keras.models import Sequential\n",
    "from keras.optimizers import RMSprop\n",
    "from keras.preprocessing.image import ImageDataGenerator\n",
    "import matplotlib.pyplot as plt\n",
    "import tensorflow as tf"
   ]
  },
  {
   "cell_type": "code",
   "execution_count": null,
   "metadata": {},
   "outputs": [],
   "source": [
    "# Force CPU\n",
    "import os\n",
    "os.environ[\"CUDA_DEVICE_ORDER\"] = \"PCI_BUS_ID\"   # see issue #152\n",
    "os.environ[\"CUDA_VISIBLE_DEVICES\"] = \"\""
   ]
  },
  {
   "cell_type": "code",
   "execution_count": null,
   "metadata": {},
   "outputs": [],
   "source": [
    "# Get GPU details\n",
    "print(tf.test.gpu_device_name())\n",
    "!nvidia-smi"
   ]
  },
  {
   "cell_type": "code",
   "execution_count": null,
   "metadata": {},
   "outputs": [],
   "source": [
    "# Get data\n",
    "from keras.datasets import cifar10\n",
    "(x_train, y_train), (x_test, y_test) = cifar10.load_data()\n",
    "\n",
    "# Make sample small for testing @todo remove\n",
    "if False:\n",
    "    x_train = x_train[:500]\n",
    "    y_train = y_train[:500]\n",
    "    x_test = x_test[:100]\n",
    "    y_test = y_test[:100]"
   ]
  },
  {
   "cell_type": "code",
   "execution_count": null,
   "metadata": {},
   "outputs": [],
   "source": [
    "# Scale image\n",
    "x_train = x_train / 255."
   ]
  },
  {
   "cell_type": "code",
   "execution_count": null,
   "metadata": {},
   "outputs": [],
   "source": [
    "# Visualize data\n",
    "%matplotlib inline\n",
    "import matplotlib.pyplot as plt\n",
    "\n",
    "plt.imshow(x_train[3])\n",
    "plt.show()"
   ]
  },
  {
   "cell_type": "code",
   "execution_count": null,
   "metadata": {},
   "outputs": [],
   "source": [
    "# Create CNN and add layers\n",
    "model = Sequential()\n",
    "\n",
    "# Stack 1\n",
    "model.add( Conv2D(32,\n",
    "                 kernel_size=(3,3),\n",
    "                 input_shape=(32, 32, 3), # Only needed for first layer\n",
    "                 activation=\"relu\",\n",
    "                 padding=\"same\"))\n",
    "model.add( Conv2D(32,\n",
    "                 kernel_size=(3,3),\n",
    "                 activation=\"relu\") )\n",
    "model.add( MaxPooling2D( pool_size=(2,2) ) )\n",
    "model.add( Dropout( 0.25 ) )\n",
    "\n",
    "# Stack 2\n",
    "model.add( Conv2D(64,\n",
    "                 kernel_size=(3,3),\n",
    "                 activation=\"relu\") )\n",
    "model.add( Conv2D(64,\n",
    "                 kernel_size=(3,3),\n",
    "                 activation=\"relu\") )\n",
    "model.add( MaxPooling2D( pool_size=(2,2) ) )\n",
    "model.add( Dropout( 0.25 ) )\n",
    "\n",
    "# Final Stack\n",
    "model.add( Flatten() )\n",
    "\n",
    "model.add( Dense(256, activation=\"relu\") )\n",
    "model.add( Dense(128, activation=\"relu\") )\n",
    "\n",
    "model.add( Dense(1, activation=\"sigmoid\") )"
   ]
  },
  {
   "cell_type": "code",
   "execution_count": null,
   "metadata": {},
   "outputs": [],
   "source": [
    "# Add optimizer to CNN\n",
    "model.compile( optimizer=\"rmsprop\",\n",
    "               loss=\"binary_crossentropy\",\n",
    "               metrics=[\"accuracy\"])"
   ]
  },
  {
   "cell_type": "code",
   "execution_count": null,
   "metadata": {},
   "outputs": [],
   "source": [
    "# Train CNN (for cars)\n",
    "y_train_car = y_train == 1 # 1: car\n",
    "y_test_car = y_test == 1\n",
    "\n",
    "model.fit(x_train, y_train_car, batch_size=128, epochs=10, shuffle=True, workers = 10)"
   ]
  },
  {
   "cell_type": "code",
   "execution_count": null,
   "metadata": {},
   "outputs": [],
   "source": [
    "# Compare model with test data\n",
    "print(model.summary())\n",
    "print(model.evaluate(x_train, y_train_car))\n",
    "print(model.evaluate(x_test, y_test_car))"
   ]
  },
  {
   "cell_type": "code",
   "execution_count": null,
   "metadata": {},
   "outputs": [],
   "source": [
    "# Check GPU \n",
    "# https://www.tensorflow.org/guide/gpu\n",
    "# https://medium.com/@kegui/how-do-i-know-i-am-running-keras-model-on-gpu-a9cdcc24f986\n",
    "# \n",
    "print(\"Num GPUs Available: \", len(tf.config.experimental.list_physical_devices('GPU')))"
   ]
  },
  {
   "cell_type": "markdown",
   "metadata": {},
   "source": [
    "# Optimize CNN by creating additional training data"
   ]
  },
  {
   "cell_type": "code",
   "execution_count": null,
   "metadata": {},
   "outputs": [],
   "source": [
    "# Train CNN (for cars)\n",
    "y_train_car = y_train == 1 # 1: car\n",
    "y_test_car = y_test == 1"
   ]
  },
  {
   "cell_type": "code",
   "execution_count": null,
   "metadata": {},
   "outputs": [],
   "source": [
    "# Create additional data\n",
    "# zoom, shift, etc. images\n",
    "gen = ImageDataGenerator(width_shift_range=3,\n",
    "                         height_shift_range=3,\n",
    "                         zoom_range=0.1,\n",
    "                         horizontal_flip=True) #,\n",
    "                         #featurewise_center=True, # Caution: Apply this op to new images\n",
    "                         #featurewise_std_normalization=True) # ... same here\n",
    "\n",
    "gen.flow(x_train, y_train)\n",
    "\n",
    "# Visualize data by iterating through it\n",
    "# for batch in gen.flow(x_train, y_train, shuffle=False):\n",
    "#     first_image = batch[0][0]\n",
    "#     first_image = batch[0][1]\n",
    "#     plt.imshow(first_image)\n",
    "#     break\n",
    "\n",
    "# If you change featurewise_center / *_std_normalizatoin you need to save them\n",
    "# As you need to apply this operation on future images (to be detected)\n",
    "# gen.__dict__"
   ]
  },
  {
   "cell_type": "code",
   "execution_count": null,
   "metadata": {},
   "outputs": [],
   "source": [
    "# Add SPECIFIC optimizer to CNN\n",
    "model2 = keras.models.clone_model(model)\n",
    "model2.compile( optimizer=\"rmsprop\",\n",
    "               loss=\"binary_crossentropy\",\n",
    "               metrics=[\"accuracy\"])"
   ]
  },
  {
   "cell_type": "code",
   "execution_count": null,
   "metadata": {},
   "outputs": [],
   "source": [
    "# compare before \"model.fit(x_train, y_train_car)\"\n",
    "model2.fit_generator(gen.flow(x_train, y_train_car, batch_size=128, shuffle=True), \n",
    "                    epochs=10, workers=10)"
   ]
  },
  {
   "cell_type": "code",
   "execution_count": null,
   "metadata": {},
   "outputs": [],
   "source": [
    "# Save model\n",
    "model.save('/tmp/cardetector.h5')\n",
    "model2.save('/tmp/cardetector2.h5')"
   ]
  },
  {
   "cell_type": "code",
   "execution_count": null,
   "metadata": {},
   "outputs": [],
   "source": [
    "# abumeration\n"
   ]
  },
  {
   "cell_type": "code",
   "execution_count": null,
   "metadata": {},
   "outputs": [],
   "source": []
  }
 ],
 "metadata": {
  "kernelspec": {
   "display_name": "Python 3",
   "language": "python",
   "name": "python3"
  },
  "language_info": {
   "codemirror_mode": {
    "name": "ipython",
    "version": 3
   },
   "file_extension": ".py",
   "mimetype": "text/x-python",
   "name": "python",
   "nbconvert_exporter": "python",
   "pygments_lexer": "ipython3",
   "version": "3.8.2"
  }
 },
 "nbformat": 4,
 "nbformat_minor": 4
}
