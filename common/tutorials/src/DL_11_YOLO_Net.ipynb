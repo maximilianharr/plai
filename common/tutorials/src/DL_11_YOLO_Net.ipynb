{
 "cells": [
  {
   "cell_type": "markdown",
   "metadata": {},
   "source": [
    "# YOLO-Net"
   ]
  },
  {
   "cell_type": "code",
   "execution_count": null,
   "metadata": {},
   "outputs": [],
   "source": [
    "# imports\n",
    "import cv2\n",
    "import numpy as np\n",
    "from tqdm import tqdm_notebook as tqdm \n",
    "import requests\n",
    "import math\n",
    "import matplotlib.pyplot as plt\n",
    "import os\n",
    "\n",
    "# local imports\n",
    "import plai.workspace.init # source setup.bash\n",
    "from plai.yolo import demo\n",
    "from plai.yolo.model.yolo_model import YOLO"
   ]
  },
  {
   "cell_type": "code",
   "execution_count": null,
   "metadata": {},
   "outputs": [],
   "source": [
    "# Download trained Yolo Net\n",
    "ws_root = plai.workspace.init.get_ws_path()\n",
    "   \n",
    "if not os.path.exists(ws_root +'res/trained/yolo.h5') or \\\n",
    "    os.path.getsize(ws_root + 'res/trained/yolo.h5') < 248714728:\n",
    "    \n",
    "    # Get yolonet from : https://my.hidrive.com/lnk/MVgiq50v\n",
    "    url = \"https://downloads.codingcoursestv.eu/037%20-%20neuronale%20netze/yolo.h5\"\n",
    "\n",
    "    r = requests.get(url, stream=True)\n",
    "\n",
    "    # Total size in bytes.\n",
    "    total_size = int(r.headers.get('content-length', 0)); \n",
    "    block_size = 1024\n",
    "    with open(ws_root + 'res/trained/yolo.h5', 'wb') as f:\n",
    "        for data in tqdm(r.iter_content(block_size), total=math.ceil(total_size//block_size), unit='KB', unit_divisor=1024, unit_scale=True):\n",
    "            f.write(data)\n",
    "else:\n",
    "    print('File already existent')"
   ]
  },
  {
   "cell_type": "code",
   "execution_count": null,
   "metadata": {},
   "outputs": [],
   "source": [
    "# Load YOLO net\n",
    "yolo = YOLO(0.6, 0.5, ws_root +'res/trained/yolo.h5')"
   ]
  },
  {
   "cell_type": "code",
   "execution_count": null,
   "metadata": {},
   "outputs": [],
   "source": [
    "# COCO: Common Objects in Contact (http://cocodataset.org/)\n",
    "#   Popular ML dataset\n",
    "#   https://www.tensorflow.org/datasets/catalog/coco\n",
    "\n",
    "file = ws_root + './common/plai/plai/yolo/data/coco_classes.txt'\n",
    "all_classes = demo.get_classes(file)"
   ]
  },
  {
   "cell_type": "code",
   "execution_count": null,
   "metadata": {},
   "outputs": [],
   "source": [
    "# Read image\n",
    "img = cv2.imread(\"../res/bild3.jpg\")\n",
    "#img = cv2.imread(\"../res/yolo.jpg\")\n",
    "img = cv2.resize(img, ( int(img.shape[1] / 2), int( img.shape[0] / 2) ) )\n",
    "img = cv2.cvtColor(img, cv2.COLOR_BGR2RGB)\n",
    "\n",
    "plt.imshow(img)\n",
    "plt.show()"
   ]
  },
  {
   "cell_type": "code",
   "execution_count": null,
   "metadata": {},
   "outputs": [],
   "source": [
    "# Detect classes on image\n",
    "img = demo.detect_image(img, yolo, all_classes)"
   ]
  },
  {
   "cell_type": "code",
   "execution_count": null,
   "metadata": {},
   "outputs": [],
   "source": [
    "# Visualize detected classes\n",
    "%matplotlib inline\n",
    "%config InlineBackend.figure_format = 'retina'\n",
    "\n",
    "plt.figure(figsize=(12, 12), dpi=80, facecolor='w', edgecolor='k')\n",
    "\n",
    "plt.imshow(img)\n",
    "plt.show()"
   ]
  },
  {
   "cell_type": "code",
   "execution_count": null,
   "metadata": {},
   "outputs": [],
   "source": []
  },
  {
   "cell_type": "code",
   "execution_count": null,
   "metadata": {},
   "outputs": [],
   "source": []
  },
  {
   "cell_type": "code",
   "execution_count": null,
   "metadata": {},
   "outputs": [],
   "source": []
  }
 ],
 "metadata": {
  "kernelspec": {
   "display_name": "Python 3",
   "language": "python",
   "name": "python3"
  },
  "language_info": {
   "codemirror_mode": {
    "name": "ipython",
    "version": 3
   },
   "file_extension": ".py",
   "mimetype": "text/x-python",
   "name": "python",
   "nbconvert_exporter": "python",
   "pygments_lexer": "ipython3",
   "version": "3.6.9"
  }
 },
 "nbformat": 4,
 "nbformat_minor": 4
}
