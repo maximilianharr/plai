{
 "cells": [
  {
   "cell_type": "markdown",
   "metadata": {},
   "source": [
    "### Neural Networks\n",
    "\n",
    "Idea: Multitude of simple nodes to approximate complex functions. Similar to Taylor Series, one can prove that for certain activation functions, every complex function can be approximated.\n",
    "<img src=\"../doc/47_neural_net.png\" alt=\"Neural Networks\" width=\"300\"/>\n",
    "\n",
    "#### Backpropagation\n",
    "Idea: Propagate error back to network.\n",
    "\n",
    "#### Activation functions\n",
    "Important as for model accuracy to chose the correct activation functions in some cases.\n",
    "- linear\n",
    "- sigmoid\n",
    "- tanh\n",
    "- ReLU\n",
    "- LReLu\n",
    "\n",
    "#### Multi-Input\n",
    "Idea: One-Hot Encoding!\n",
    "\n",
    "#### Optimizer / Regressor\n",
    "Visualization of optimization speed for prominent functions\n",
    "http://github.com/wassname/viz_torch_optim\n",
    "\n",
    "sklearn optimizer / regressors\n",
    "See: https://scikit-learn.org/stable/modules/classes.html  \n",
    "Examples: \n",
    "- linear: SGDRegressor (Stochastic-Gradient Descent)\n",
    "- variable selection: ElasticNet\n",
    "- Bayesian: ARDRegression\n",
    "- outlier-robust: RANSACRegressor\n",
    "- ...\n",
    "\n",
    "#### Frameworks\n",
    "\n",
    "##### Tensorflow\n",
    "- developed by Google\n",
    "- written in C++ / Cuda\n",
    "- much control about tools\n",
    "- Ideal for research\n",
    "\n",
    "##### Keras\n",
    "- User-friendly\n",
    "- develpped for Python\n",
    "- ideal for simple development"
   ]
  },
  {
   "cell_type": "code",
   "execution_count": null,
   "metadata": {},
   "outputs": [],
   "source": [
    "# imports\n",
    "import gzip\n",
    "import numpy as np\n",
    "import pandas_ml\n",
    "\n",
    "import keras # Ignore deprecated warning\n",
    "from keras.layers import Dense\n",
    "from keras.utils import to_categorical\n",
    "from keras.models import Sequential"
   ]
  },
  {
   "cell_type": "code",
   "execution_count": null,
   "metadata": {},
   "outputs": [],
   "source": [
    "# FashionMNIST: https://github.com/zalandoresearch/fashion-mnist\n",
    "def open_images(filename):\n",
    "    with gzip.open(filename, \"rb\") as file:\n",
    "        data = file.read()\n",
    "        return np.frombuffer(data, dtype=np.uint8, offset=16)\\\n",
    "            .reshape(-1, 28, 28)\\\n",
    "            .astype(np.float32)\n",
    "\n",
    "\n",
    "def open_labels(filename):\n",
    "    with gzip.open(filename, \"rb\") as file:\n",
    "        data = file.read()\n",
    "        return np.frombuffer(data, dtype=np.uint8, offset=8)"
   ]
  },
  {
   "cell_type": "code",
   "execution_count": null,
   "metadata": {},
   "outputs": [],
   "source": [
    "# Prepare data\n",
    "x_train = open_images(\"../res/fashionmnist/train-images-idx3-ubyte.gz\")\n",
    "y_train = open_labels(\"../res/fashionmnist/train-labels-idx1-ubyte.gz\")\n",
    "\n",
    "x_test = open_images(\"../res/fashionmnist/t10k-images-idx3-ubyte.gz\")\n",
    "y_test = open_labels(\"../res/fashionmnist/t10k-labels-idx1-ubyte.gz\")"
   ]
  },
  {
   "cell_type": "code",
   "execution_count": null,
   "metadata": {},
   "outputs": [],
   "source": [
    "# Visualize data\n",
    "%matplotlib inline\n",
    "import matplotlib.pyplot as plt\n",
    "\n",
    "plt.imshow(x_train[1], cmap = \"gray_r\")\n",
    "plt.show()\n",
    "\n",
    "y_train_single = (y_train == 0) # Train model which detects a t-shirt: ENUM \"0\"\n",
    "y_test_single = (y_test == 0) # Train model which detects a t-shirt: ENUM \"0\""
   ]
  },
  {
   "cell_type": "markdown",
   "metadata": {},
   "source": [
    "### Single-Output Neural Network"
   ]
  },
  {
   "cell_type": "code",
   "execution_count": null,
   "metadata": {},
   "outputs": [],
   "source": [
    "# Define neuronal network (single output)\n",
    "model = Sequential()\n",
    "\n",
    "model.add( Dense(100, activation = \"sigmoid\", input_shape = (784,)) )\n",
    "model.add(Dense(1, activation = \"sigmoid\"))\n",
    "\n",
    "# Create efficient code (e.g. for GPU)\n",
    "# sgd - Stochastic Gradient Decent\n",
    "model.compile(optimizer = \"sgd\", loss = \"binary_crossentropy\", metrics = [\"accuracy\"]) "
   ]
  },
  {
   "cell_type": "code",
   "execution_count": null,
   "metadata": {},
   "outputs": [],
   "source": [
    "# Train model\n",
    "model.fit(x_train.reshape(60000, 784),\n",
    "          y_train_single,\n",
    "          epochs = 10,\n",
    "          batch_size = 1000) "
   ]
  },
  {
   "cell_type": "code",
   "execution_count": null,
   "metadata": {},
   "outputs": [],
   "source": [
    "# Predict an image\n",
    "train_index = 10\n",
    "\n",
    "# Predict value\n",
    "prediction = np.round(model.predict(x_train[train_index].reshape(1, 784)))\n",
    "\n",
    "if prediction:\n",
    "    print('This is a t-shirt')\n",
    "else:\n",
    "    print('This is not a t-shirt')\n",
    "    \n",
    "# Show sample image\n",
    "%matplotlib inline\n",
    "import matplotlib.pyplot as plt\n",
    "\n",
    "plt.imshow(x_train[train_index], cmap = \"gray_r\")\n",
    "plt.show()"
   ]
  },
  {
   "cell_type": "code",
   "execution_count": null,
   "metadata": {},
   "outputs": [],
   "source": [
    "# Manual evaluation\n",
    "# Predict all images\n",
    "y_train_pred = model.predict(x_train.reshape(-1, 784))\n",
    "\n",
    "# Compare to real labels\n",
    "print(\"Accuracy: %.4f\" % np.mean(np.round(y_train_pred).reshape(-1) == y_train))"
   ]
  },
  {
   "cell_type": "code",
   "execution_count": null,
   "metadata": {},
   "outputs": [],
   "source": [
    "# Evaluate using TRAIN data\n",
    "print(model.metrics_names)\n",
    "print(model.evaluate(x_train.reshape(-1, 784), y_train_single))"
   ]
  },
  {
   "cell_type": "code",
   "execution_count": null,
   "metadata": {},
   "outputs": [],
   "source": [
    "# Evaluate using TEST data\n",
    "print(model.evaluate(x_test.reshape(-1, 784), y_test_single))"
   ]
  },
  {
   "cell_type": "code",
   "execution_count": null,
   "metadata": {},
   "outputs": [],
   "source": []
  }
 ],
 "metadata": {
  "kernelspec": {
   "display_name": "Python 3",
   "language": "python",
   "name": "python3"
  },
  "language_info": {
   "codemirror_mode": {
    "name": "ipython",
    "version": 3
   },
   "file_extension": ".py",
   "mimetype": "text/x-python",
   "name": "python",
   "nbconvert_exporter": "python",
   "pygments_lexer": "ipython3",
   "version": "3.6.9"
  }
 },
 "nbformat": 4,
 "nbformat_minor": 4
}
