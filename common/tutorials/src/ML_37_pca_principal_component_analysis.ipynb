{
 "cells": [
  {
   "cell_type": "markdown",
   "metadata": {},
   "source": [
    "### Principal Component Analysis \n",
    "dt. Hauptkomponentenanalyse\n",
    "Idea: Reduce dimensions by finding net dimensions with maximal variance.\n",
    "\n",
    "Dataset: https://www.kaggle.com/uciml/human-activity-recognition-with-smartphones/kernels"
   ]
  },
  {
   "cell_type": "code",
   "execution_count": null,
   "metadata": {},
   "outputs": [],
   "source": [
    "# import\n",
    "import numpy as np\n",
    "import pandas as pd\n",
    "\n",
    "from sklearn.decomposition import PCA\n",
    "from sklearn.linear_model import LogisticRegression\n",
    "from sklearn.preprocessing import StandardScaler"
   ]
  },
  {
   "cell_type": "code",
   "execution_count": null,
   "metadata": {},
   "outputs": [],
   "source": [
    "# Read CSV\n",
    "df = pd.read_csv(\"../res/pca_train.csv.bz2\")\n",
    "df.head()"
   ]
  },
  {
   "cell_type": "code",
   "execution_count": null,
   "metadata": {},
   "outputs": [],
   "source": [
    "# Prepare data\n",
    "x = df.drop(\"subject\", axis = 1).drop(\"Activity\", axis = 1)\n",
    "y = df[\"Activity\"]\n",
    "\n",
    "# Scale data\n",
    "s = StandardScaler()\n",
    "x = s.fit_transform(x)"
   ]
  },
  {
   "cell_type": "code",
   "execution_count": null,
   "metadata": {},
   "outputs": [],
   "source": [
    "# Decomposition using PCA (2D)\n",
    "p = PCA(n_components = 2)\n",
    "p.fit(x)\n",
    "\n",
    "x_transformed = p.transform(x)"
   ]
  },
  {
   "cell_type": "code",
   "execution_count": null,
   "metadata": {},
   "outputs": [],
   "source": [
    "# Visualize data\n",
    "%matplotlib inline\n",
    "import matplotlib.pyplot as plt\n",
    "\n",
    "plt.figure(figsize = (16, 8))\n",
    "\n",
    "for activity in y.unique():\n",
    "    x_transformed_filtered = x_transformed[ y == activity, :]\n",
    "    plt.scatter(x_transformed_filtered[:,0], x_transformed_filtered[:, 1], \n",
    "                label = activity, s = 2.5)\n",
    "\n",
    "plt.legend()\n",
    "plt.show()"
   ]
  },
  {
   "cell_type": "code",
   "execution_count": null,
   "metadata": {},
   "outputs": [],
   "source": [
    "# Print all unique classes of y\n",
    "y.unique()"
   ]
  },
  {
   "cell_type": "code",
   "execution_count": null,
   "metadata": {},
   "outputs": [],
   "source": [
    "# Decomposition using PCA (3D)\n",
    "p = PCA(n_components = 3)\n",
    "p.fit(x)\n",
    "\n",
    "x_transformed = p.transform(x)"
   ]
  },
  {
   "cell_type": "code",
   "execution_count": null,
   "metadata": {},
   "outputs": [],
   "source": [
    "# Visualize data\n",
    "%matplotlib inline\n",
    "import matplotlib.pyplot as plt\n",
    "from mpl_toolkits.mplot3d import Axes3D\n",
    "\n",
    "fig = plt.figure(figsize = (16, 8))\n",
    "ax = fig.add_subplot(111, projection='3d')\n",
    "\n",
    "for activity in y.unique():\n",
    "    x_transformed_filtered = x_transformed[ y == activity, :]\n",
    "    ax.scatter(\n",
    "        x_transformed_filtered[:,0], \n",
    "        x_transformed_filtered[:, 1], \n",
    "        x_transformed_filtered[:, 2], \n",
    "        label = activity, \n",
    "        s = 4.0)\n",
    "\n",
    "plt.legend()\n",
    "plt.show()"
   ]
  },
  {
   "cell_type": "code",
   "execution_count": null,
   "metadata": {},
   "outputs": [],
   "source": [
    "# PCA for data compression\n",
    "df_train = pd.read_csv(\"../res/pca_train.csv.bz2\")\n",
    "df_test = pd.read_csv(\"../res/pca_test.csv.bz2\")\n",
    "\n",
    "df_train.head()"
   ]
  },
  {
   "cell_type": "code",
   "execution_count": null,
   "metadata": {},
   "outputs": [],
   "source": [
    "# Prepare data\n",
    "x_train = df_train.drop(\"subject\", axis = 1).drop(\"Activity\", axis = 1)\n",
    "y_train = df_train[\"Activity\"]\n",
    "\n",
    "x_test = df_test.drop(\"subject\", axis = 1).drop(\"Activity\", axis = 1)\n",
    "y_test = df_test[\"Activity\"]\n",
    "\n",
    "# Scale data\n",
    "s = StandardScaler()\n",
    "x = s.fit_transform(x)"
   ]
  },
  {
   "cell_type": "code",
   "execution_count": null,
   "metadata": {},
   "outputs": [],
   "source": [
    "# Fit PCA\n",
    "p = PCA()\n",
    "p.fit(x_train)\n",
    "\n",
    "# Show how much variance covered by first 50 componens\n",
    "print(\"First 50 dimensions have %.2f percent of variance\" \n",
    "      % (np.sum(p.explained_variance_ratio_[:50])*100))"
   ]
  },
  {
   "cell_type": "code",
   "execution_count": null,
   "metadata": {},
   "outputs": [],
   "source": [
    "# How does first component consists\n",
    "p.components_[0]"
   ]
  },
  {
   "cell_type": "code",
   "execution_count": null,
   "metadata": {},
   "outputs": [],
   "source": [
    "# PCA for data compression\n",
    "df_train = pd.read_csv(\"../res/pca_train.csv.bz2\")\n",
    "df_test = pd.read_csv(\"../res/pca_test.csv.bz2\")"
   ]
  },
  {
   "cell_type": "code",
   "execution_count": null,
   "metadata": {},
   "outputs": [],
   "source": [
    "# Prepare data\n",
    "x_train = df_train.drop(\"subject\", axis = 1).drop(\"Activity\", axis = 1)\n",
    "y_train = df_train[\"Activity\"]\n",
    "\n",
    "x_test = df_test.drop(\"subject\", axis = 1).drop(\"Activity\", axis = 1)\n",
    "y_test = df_test[\"Activity\"]\n",
    "\n",
    "# Scale data\n",
    "s = StandardScaler()\n",
    "x_train = s.fit_transform(x_train)\n",
    "x_test = s.transform(x_test)"
   ]
  },
  {
   "cell_type": "code",
   "execution_count": null,
   "metadata": {},
   "outputs": [],
   "source": [
    "# Convert data using PCA dimensions\n",
    "p = PCA(n_components = 50)\n",
    "p.fit(x_train)\n",
    "\n",
    "x_train_transformed = p.fit_transform(x_train)\n",
    "x_test_transformed = p.transform(x_test)\n",
    "\n",
    "# Fit LogisticRegression on PCA transformed data\n",
    "clf = LogisticRegression(solver = 'newton-cg', max_iter = 100)\n",
    "clf.fit(x_train_transformed, y_train)\n",
    "\n",
    "print(\"Training score on 50 dimensions (PCA) : %f\" % clf.score(x_test_transformed, y_test))"
   ]
  },
  {
   "cell_type": "code",
   "execution_count": null,
   "metadata": {},
   "outputs": [],
   "source": [
    "# Logistic Regression without PCA\n",
    "clf = LogisticRegression(solver = 'newton-cg', max_iter = 100)\n",
    "clf.fit(x_train, y_train)\n",
    "\n",
    "print(\"Training score on 561 dimensions (PCA) : %f\" % clf.score(x_test, y_test))"
   ]
  },
  {
   "cell_type": "code",
   "execution_count": null,
   "metadata": {},
   "outputs": [],
   "source": []
  },
  {
   "cell_type": "code",
   "execution_count": null,
   "metadata": {},
   "outputs": [],
   "source": []
  },
  {
   "cell_type": "code",
   "execution_count": null,
   "metadata": {},
   "outputs": [],
   "source": []
  }
 ],
 "metadata": {
  "kernelspec": {
   "display_name": "Python 3",
   "language": "python",
   "name": "python3"
  },
  "language_info": {
   "codemirror_mode": {
    "name": "ipython",
    "version": 3
   },
   "file_extension": ".py",
   "mimetype": "text/x-python",
   "name": "python",
   "nbconvert_exporter": "python",
   "pygments_lexer": "ipython3",
   "version": "3.6.9"
  }
 },
 "nbformat": 4,
 "nbformat_minor": 4
}
