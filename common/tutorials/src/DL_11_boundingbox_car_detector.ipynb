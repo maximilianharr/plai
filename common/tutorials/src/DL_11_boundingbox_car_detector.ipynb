{
 "cells": [
  {
   "cell_type": "markdown",
   "metadata": {},
   "source": [
    "# Find car in image\n",
    "Idea: iteratively crop image and apply detection.  \n",
    "\n",
    "### Apply on single crop"
   ]
  },
  {
   "cell_type": "code",
   "execution_count": null,
   "metadata": {},
   "outputs": [],
   "source": [
    "# imports\n",
    "import keras.models as models\n",
    "import numpy as np\n",
    "import os\n",
    "from PIL import Image"
   ]
  },
  {
   "cell_type": "code",
   "execution_count": null,
   "metadata": {},
   "outputs": [],
   "source": [
    "# Force CPU @todo use GPU\n",
    "import os\n",
    "os.environ[\"CUDA_DEVICE_ORDER\"] = \"PCI_BUS_ID\"   # see issue #152\n",
    "os.environ[\"CUDA_VISIBLE_DEVICES\"] = \"\""
   ]
  },
  {
   "cell_type": "code",
   "execution_count": null,
   "metadata": {},
   "outputs": [],
   "source": [
    "# Get root ws path\n",
    "import plai.workspace.init # source setup.bash\n",
    "ws_root = plai.workspace.init.get_ws_path()"
   ]
  },
  {
   "cell_type": "code",
   "execution_count": null,
   "metadata": {},
   "outputs": [],
   "source": [
    "# Load image\n",
    "img = Image.open(\"../res/bild1.jpg\")\n",
    "\n",
    "# Resize and crop image\n",
    "img = img.resize( (round(img.size[0]/10), round(img.size[1]/10)), resample=Image.BICUBIC)\n",
    "img = img.resize((32, 32), resample=Image.BICUBIC)\n",
    "img"
   ]
  },
  {
   "cell_type": "code",
   "execution_count": null,
   "metadata": {},
   "outputs": [],
   "source": [
    "# Convert to array and scale\n",
    "data = np.asarray(img).astype(np.float32)\n",
    "data2 = np.asarray(img).astype(np.float32)/255. # Second detector scaled!"
   ]
  },
  {
   "cell_type": "code",
   "execution_count": null,
   "metadata": {},
   "outputs": [],
   "source": [
    "# Load model\n",
    "model = models.load_model( os.path.join(ws_root, 'res', 'trained', 'build', 'cardetector.h5'))\n",
    "#model2 = models.load_model( os.path.join(ws_root, 'res', 'trained', 'build', 'cardetector2.h5'))"
   ]
  },
  {
   "cell_type": "code",
   "execution_count": null,
   "metadata": {},
   "outputs": [],
   "source": [
    "# Predict if car in image\n",
    "model.predict(data.reshape(1, 32, 32, 3))\n",
    "#model2.predict(data2.reshape(1, 32, 32, 3))"
   ]
  },
  {
   "cell_type": "markdown",
   "metadata": {},
   "source": [
    "### Iteratively crop and apply\n"
   ]
  },
  {
   "cell_type": "code",
   "execution_count": null,
   "metadata": {},
   "outputs": [],
   "source": [
    "# Load image\n",
    "scale = 10\n",
    "img = Image.open(\"../res/bild1.jpg\")\n",
    "img = img.resize( (round(img.size[0]/scale), round(img.size[1]/scale)), resample=Image.BICUBIC)\n",
    "img"
   ]
  },
  {
   "cell_type": "code",
   "execution_count": null,
   "metadata": {},
   "outputs": [],
   "source": [
    "# Load model\n",
    "model = models.load_model( os.path.join(ws_root, 'res', 'trained', 'build', 'cardetector.h5') )"
   ]
  },
  {
   "cell_type": "code",
   "execution_count": null,
   "metadata": {},
   "outputs": [],
   "source": [
    "# Predict car in image by iterating through image \n",
    "import matplotlib.pyplot as plt\n",
    "from PIL import ImageDraw\n",
    "\n",
    "size = 100\n",
    "step_size = 10\n",
    "\n",
    "cars = []\n",
    "\n",
    "for x in range(0, img.size[0] - size, step_size):\n",
    "    for y in range(0, img.size[1] - size, step_size):\n",
    "        \n",
    "        # Crop and convert image\n",
    "        img_crop = img.crop((x, y, x + size, y + size ))\n",
    "        # plt.imshow(img_crop)\n",
    "        # plt.show()\n",
    "        data = np.asarray(img_crop.resize((32,32), resample=Image.BICUBIC))\n",
    "        data = data.astype(np.float32)\n",
    "        \n",
    "        # Predict\n",
    "        pred = model.predict(data.reshape(-1, 32, 32, 3))\n",
    "        #print(pred[0][0])\n",
    "        if pred[0][0] > 0.9:\n",
    "            cars.append((x,y))\n",
    "\n"
   ]
  },
  {
   "cell_type": "code",
   "execution_count": null,
   "metadata": {},
   "outputs": [],
   "source": [
    "# Draw detection rectangles\n",
    "img_out = img.copy()\n",
    "draw = ImageDraw.Draw(img_out)\n",
    "\n",
    "for car in cars:\n",
    "    # draw.rectangle([car, (car[0] + size, car[1] + size) ])\n",
    "    draw.line( [car, (car[0], car[1] + size), (car[0] + size, car[1] + size), (car[0] + size, car[1]), car],\n",
    "             \"yellow\", 2)\n",
    "    \n",
    "    draw.point( (car[0] + 50, car[1] + 50), \"yellow\")\n",
    "\n",
    "img_out"
   ]
  },
  {
   "cell_type": "code",
   "execution_count": null,
   "metadata": {},
   "outputs": [],
   "source": [
    "# @todo Cluster points (kmean) and merge these cells"
   ]
  },
  {
   "cell_type": "markdown",
   "metadata": {},
   "source": [
    "### Also vary the crop size!"
   ]
  },
  {
   "cell_type": "code",
   "execution_count": null,
   "metadata": {},
   "outputs": [],
   "source": [
    "# Load image\n",
    "scale = 5\n",
    "img = Image.open(\"../res/bild1.jpg\")\n",
    "img = img.resize( (round(img.size[0]/scale), round(img.size[1]/scale)), resample=Image.BICUBIC)\n",
    "img"
   ]
  },
  {
   "cell_type": "code",
   "execution_count": null,
   "metadata": {},
   "outputs": [],
   "source": [
    "# Implement car detector function\n",
    "def car_detector(img, model, step_size):\n",
    "    \n",
    "    sizes = [100, 50, 20]\n",
    "    cars = []\n",
    "    for size in sizes:\n",
    "        for x in range(0, img.size[0] - size, step_size):\n",
    "            for y in range(0, img.size[1] - size, step_size):\n",
    "\n",
    "                # Crop and convert image\n",
    "                img_crop = img.crop((x, y, x + size, y + size ))\n",
    "                # plt.imshow(img_crop)\n",
    "                # plt.show()\n",
    "                data = np.asarray(img_crop.resize((32,32), resample=Image.BICUBIC))\n",
    "                data = data.astype(np.float32)\n",
    "\n",
    "                # Predict\n",
    "                pred = model.predict(data.reshape(-1, 32, 32, 3))\n",
    "                #print(pred[0][0])\n",
    "                if pred[0][0] > 0.95:\n",
    "                    cars.append((x, y, size, pred))\n",
    "    return cars\n",
    "\n",
    "cars = car_detector(img, model, 20)"
   ]
  },
  {
   "cell_type": "code",
   "execution_count": null,
   "metadata": {},
   "outputs": [],
   "source": [
    "# Draw detection rectangles\n",
    "img_out = img.copy()\n",
    "draw = ImageDraw.Draw(img_out)\n",
    "\n",
    "for car in cars:\n",
    "    size = car[2]\n",
    "    draw.line( [car[0:2], (car[0], car[1] + size), (car[0] + size, car[1] + size), (car[0] + size, car[1]), car[0:2]],\"yellow\", 2)\n",
    "    \n",
    "\n",
    "img_out"
   ]
  },
  {
   "cell_type": "markdown",
   "metadata": {},
   "source": [
    "### Next step: Implement YOLO\n",
    "YOLO  \n",
    "- https://www.cv-foundation.org/openaccess/content_cvpr_2016/papers/Redmon_You_Only_Look_CVPR_2016_paper.pdf  \n",
    "YOL09000\n",
    "- http://openaccess.thecvf.com/content_cvpr_2017/papers/Redmon_YOLO9000_Better_Faster_CVPR_2017_paper.pdf  \n",
    "YOLOv3  \n",
    "- https://arxiv.org/pdf/1804.02767.pdf"
   ]
  }
 ],
 "metadata": {
  "kernelspec": {
   "display_name": "Python 3",
   "language": "python",
   "name": "python3"
  },
  "language_info": {
   "codemirror_mode": {
    "name": "ipython",
    "version": 3
   },
   "file_extension": ".py",
   "mimetype": "text/x-python",
   "name": "python",
   "nbconvert_exporter": "python",
   "pygments_lexer": "ipython3",
   "version": "3.8.2"
  }
 },
 "nbformat": 4,
 "nbformat_minor": 4
}
