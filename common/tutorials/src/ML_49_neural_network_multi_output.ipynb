{
 "cells": [
  {
   "cell_type": "markdown",
   "metadata": {},
   "source": [
    "# Multi-Output Neural Network"
   ]
  },
  {
   "cell_type": "code",
   "execution_count": null,
   "metadata": {},
   "outputs": [],
   "source": [
    "# imports\n",
    "import gzip\n",
    "import numpy as np\n",
    "import pandas as pd\n",
    "import pandas_ml\n",
    "\n",
    "import keras # Ignore deprecated warning\n",
    "from keras.layers import Dense\n",
    "from keras.utils import to_categorical\n",
    "from keras.models import Sequential"
   ]
  },
  {
   "cell_type": "code",
   "execution_count": null,
   "metadata": {},
   "outputs": [],
   "source": [
    "# FashionMNIST: https://github.com/zalandoresearch/fashion-mnist\n",
    "def open_images(filename):\n",
    "    with gzip.open(filename, \"rb\") as file:\n",
    "        data = file.read()\n",
    "        return np.frombuffer(data, dtype=np.uint8, offset=16)\\\n",
    "            .reshape(-1, 28, 28)\\\n",
    "            .astype(np.float32)\n",
    "\n",
    "\n",
    "def open_labels(filename):\n",
    "    with gzip.open(filename, \"rb\") as file:\n",
    "        data = file.read()\n",
    "        return np.frombuffer(data, dtype=np.uint8, offset=8)"
   ]
  },
  {
   "cell_type": "code",
   "execution_count": null,
   "metadata": {},
   "outputs": [],
   "source": [
    "# Prepare data\n",
    "x_train = open_images(\"../res/fashionmnist/train-images-idx3-ubyte.gz\")\n",
    "y_train = open_labels(\"../res/fashionmnist/train-labels-idx1-ubyte.gz\")\n",
    "\n",
    "x_test = open_images(\"../res/fashionmnist/t10k-images-idx3-ubyte.gz\")\n",
    "y_test = open_labels(\"../res/fashionmnist/t10k-labels-idx1-ubyte.gz\")"
   ]
  },
  {
   "cell_type": "code",
   "execution_count": null,
   "metadata": {},
   "outputs": [],
   "source": [
    "# Visualize data\n",
    "%matplotlib inline\n",
    "import matplotlib.pyplot as plt\n",
    "\n",
    "plt.imshow(x_train[1], cmap = \"gray_r\")\n",
    "plt.show()\n",
    "\n",
    "y_train_multi = to_categorical(y_train) # Train model which detects all classes\n",
    "y_test_multi = to_categorical(y_test)"
   ]
  },
  {
   "cell_type": "markdown",
   "metadata": {},
   "source": [
    "### Multi-Output Neural Network\n",
    "... using softmax activation function."
   ]
  },
  {
   "cell_type": "code",
   "execution_count": null,
   "metadata": {},
   "outputs": [],
   "source": [
    "# Define neuronal network (multi output)\n",
    "model = Sequential()\n",
    "\n",
    "model.add( Dense(100, activation = \"sigmoid\", input_shape = (784,)) )\n",
    "model.add(Dense(10, activation = \"softmax\"))\n",
    "\n",
    "# Create efficient code (e.g. for GPU)\n",
    "# Choose an optimizer: sgd, rmsprop, adam, \n",
    "model.compile(optimizer = \"rmsprop\", loss = \"categorical_crossentropy\", metrics = [\"accuracy\"]) "
   ]
  },
  {
   "cell_type": "code",
   "execution_count": null,
   "metadata": {},
   "outputs": [],
   "source": [
    "# Train model\n",
    "model.fit(x_train.reshape(60000, 784),\n",
    "          y_train_multi,\n",
    "          epochs = 10,\n",
    "          batch_size = 1000) "
   ]
  },
  {
   "cell_type": "code",
   "execution_count": null,
   "metadata": {},
   "outputs": [],
   "source": [
    "# Evaluate using TRAIN data\n",
    "print(model.metrics_names)\n",
    "print(model.evaluate(x_train.reshape(-1, 784), y_train_multi))"
   ]
  },
  {
   "cell_type": "code",
   "execution_count": null,
   "metadata": {},
   "outputs": [],
   "source": [
    "# Predict an image\n",
    "train_index = 0\n",
    "\n",
    "# Predict value\n",
    "prediction = np.argmax(model.predict(x_test.reshape(-1, 784))[train_index])\n",
    "\n",
    "if prediction == 0:\n",
    "    print('This is a t-shirt')\n",
    "if prediction == 9:\n",
    "    print('This is a shoe')\n",
    "else:\n",
    "    print('This is an other class')\n",
    "    \n",
    "# Show sample image\n",
    "%matplotlib inline\n",
    "import matplotlib.pyplot as plt\n",
    "\n",
    "plt.imshow(x_train[train_index], cmap = \"gray_r\")\n",
    "plt.show()"
   ]
  },
  {
   "cell_type": "markdown",
   "metadata": {},
   "source": [
    "### Confusion Matrix of Neural Network\n",
    "Can be used to see which classes can be detected well and which ones are confused with others."
   ]
  },
  {
   "cell_type": "code",
   "execution_count": null,
   "metadata": {},
   "outputs": [],
   "source": [
    "# Predict test data\n",
    "pred = model.predict(x_test.reshape(-1, 784))\n",
    "pred = np.argmax(pred, axis = 1) # Find max. prop. of class in output array"
   ]
  },
  {
   "cell_type": "code",
   "execution_count": null,
   "metadata": {},
   "outputs": [],
   "source": [
    "# Create confusion matrix\n",
    "confusion_matrix = pandas_ml.ConfusionMatrix(pred, y_test)\n",
    "print(confusion_matrix)"
   ]
  },
  {
   "cell_type": "markdown",
   "metadata": {},
   "source": [
    "### Is my network complex enough?\n",
    "Es gilt: Das Netz passt sich an die Daten an\n",
    "- Testgenauigkeit nur minimal schlechter wie die Trainingsgenauigkeit: Das Modell darf vermutlich noch was komplexer sein\n",
    "- Testgenauigkeit sehr viel schlechter wie die Trainingsgenauigkeit: Das Modell ist zu komplex (das Modell hat sich zu stark an die Trainingsdaten angepasst)\n",
    "- Beides schlecht: Du brauchst mehr Daten oder einen anderen Algorithmus / Optimierer!"
   ]
  },
  {
   "cell_type": "code",
   "execution_count": null,
   "metadata": {},
   "outputs": [],
   "source": [
    "# Define neuronal network (multi output) with additional layer\n",
    "model = Sequential()\n",
    "\n",
    "# Choose activation functions: tanh sigmoid relu softwax\n",
    "model.add( Dense(100, activation = \"tanh\", input_shape = (784,)) )\n",
    "model.add( Dense(50, activation = \"sigmoid\", input_shape = (784,)) )\n",
    "model.add(Dense(10, activation = \"softmax\"))\n",
    "\n",
    "# Create efficient code (e.g. for GPU)\n",
    "# Choose optimizer\n",
    "# rmsprop adam \n",
    "model.compile(optimizer = \"rmsprop\", loss = \"categorical_crossentropy\", metrics = [\"accuracy\"]) "
   ]
  },
  {
   "cell_type": "code",
   "execution_count": null,
   "metadata": {},
   "outputs": [],
   "source": [
    "# Train model\n",
    "model.fit(x_train.reshape(60000, 784),\n",
    "          y_train_multi,\n",
    "          epochs = 10,\n",
    "          batch_size = 1000) "
   ]
  },
  {
   "cell_type": "code",
   "execution_count": null,
   "metadata": {},
   "outputs": [],
   "source": [
    "# Evaluate using TRAIN data\n",
    "print(model.metrics_names)\n",
    "print(model.evaluate(x_test.reshape(-1, 784), y_test_multi))"
   ]
  },
  {
   "cell_type": "code",
   "execution_count": null,
   "metadata": {},
   "outputs": [],
   "source": []
  },
  {
   "cell_type": "code",
   "execution_count": null,
   "metadata": {},
   "outputs": [],
   "source": []
  },
  {
   "cell_type": "code",
   "execution_count": null,
   "metadata": {},
   "outputs": [],
   "source": []
  }
 ],
 "metadata": {
  "kernelspec": {
   "display_name": "Python 3",
   "language": "python",
   "name": "python3"
  },
  "language_info": {
   "codemirror_mode": {
    "name": "ipython",
    "version": 3
   },
   "file_extension": ".py",
   "mimetype": "text/x-python",
   "name": "python",
   "nbconvert_exporter": "python",
   "pygments_lexer": "ipython3",
   "version": "3.6.9"
  }
 },
 "nbformat": 4,
 "nbformat_minor": 4
}
