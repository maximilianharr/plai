{
 "cells": [
  {
   "cell_type": "markdown",
   "metadata": {},
   "source": [
    "### Training vs testing  \n",
    "Splitting of data in a train and test dataset is difficult. Choosing the right model also. \n",
    "If percentage of train dataset is too high or model to complex: Overfitting  \n",
    "If percentage of test dataset is too high or model to simple: Underfitting  \n",
    "\n",
    "#### Underfitting / Bias\n",
    "- Model is to simple / generic\n",
    "- Trends are not reflected in model\n",
    "  \n",
    "<img src=\"../doc/decision_tree_flat.png\" alt=\"Decision Tree\" width=\"300\"/>\n",
    "\n",
    "#### Overfitting / Variance\n",
    "- Model too detailed\n",
    "- Outliers will be learned and classify new outliers\n",
    "  \n",
    "<img src=\"../doc/decision_tree_deep.png\" alt=\"Decision Tree\" width=\"300\"/>"
   ]
  },
  {
   "cell_type": "markdown",
   "metadata": {},
   "source": [
    "### Accuracy v.s. complexity\n",
    "Problem  \n",
    "- Left side is underfitting  \n",
    "- Right side is overfitting  \n",
    "\n",
    "#### Validation curve\n",
    "Solution\n",
    "- Try to train model to get into the 'middle'\n",
    "- This plot is called a validation curve  \n",
    "<img src=\"../doc/29_accuracy_vs_complexity.png\" alt=\"Accuracy v.s. Complexity\" width=\"300\"/>\n",
    "\n",
    "#### Learning curve\n",
    "Does more data help my model?\n",
    "<img src=\"../doc/29_learning_curve.png\" alt=\"Learning Curve\" width=\"500\"/>"
   ]
  },
  {
   "cell_type": "code",
   "execution_count": null,
   "metadata": {},
   "outputs": [],
   "source": [
    "# imports\n",
    "import graphviz\n",
    "import numpy as np\n",
    "import pandas as pd\n",
    "\n",
    "from sklearn.model_selection import train_test_split\n",
    "from sklearn.model_selection import validation_curve\n",
    "from sklearn.model_selection import learning_curve\n",
    "from sklearn.neighbors import KNeighborsClassifier\n",
    "from sklearn.preprocessing import StandardScaler\n",
    "from sklearn.tree import DecisionTreeClassifier\n",
    "from sklearn.utils import shuffle"
   ]
  },
  {
   "cell_type": "code",
   "execution_count": null,
   "metadata": {},
   "outputs": [],
   "source": [
    "# Read CSV\n",
    "df = pd.read_csv(\"../res/classification.csv\")\n",
    "df.head()"
   ]
  },
  {
   "cell_type": "code",
   "execution_count": null,
   "metadata": {},
   "outputs": [],
   "source": [
    "# Prepare data\n",
    "x = df[[\"age\", \"interest\"]].values\n",
    "y = df[\"success\"].values"
   ]
  },
  {
   "cell_type": "code",
   "execution_count": null,
   "metadata": {},
   "outputs": [],
   "source": [
    "# Create validation curve for k-Neighbors\n",
    "param_range = np.array([40, 30, 20, 15, 10, 8, 7, 6, 5, 4, 3, 2, 1])\n",
    "\n",
    "train_scores, test_scores = validation_curve(\n",
    "    KNeighborsClassifier(),\n",
    "    x,\n",
    "    y,\n",
    "    param_name = \"n_neighbors\",\n",
    "    param_range = param_range)"
   ]
  },
  {
   "cell_type": "code",
   "execution_count": null,
   "metadata": {},
   "outputs": [],
   "source": [
    "# Plot performance of model with increasing neighbors k\n",
    "%matplotlib inline\n",
    "import matplotlib.pyplot as plt\n",
    "\n",
    "plt.plot(param_range, np.mean(train_scores, axis = 1), label = 'train')\n",
    "plt.plot(param_range, np.mean(test_scores, axis = 1), label = 'test')\n",
    "\n",
    "plt.xlabel('Neighbors k')\n",
    "plt.ylabel('Model performance r2')\n",
    "\n",
    "plt.xlim(np.max(param_range), 0) # Switch x-axis as high k is more generic\n",
    "plt.legend()\n",
    "plt.show()"
   ]
  },
  {
   "cell_type": "code",
   "execution_count": null,
   "metadata": {},
   "outputs": [],
   "source": [
    "# Create validation curve for Decision tree\n",
    "param_range = np.linspace(1,10,10)\n",
    "print(param_range)\n",
    "\n",
    "train_scores, test_scores = validation_curve(\n",
    "    DecisionTreeClassifier(criterion = 'entropy'),\n",
    "    x,\n",
    "    y,\n",
    "    param_name = \"max_depth\",\n",
    "    param_range = param_range)"
   ]
  },
  {
   "cell_type": "code",
   "execution_count": null,
   "metadata": {},
   "outputs": [],
   "source": [
    "# Plot performance of model with increasing neighbors k\n",
    "%matplotlib inline\n",
    "import matplotlib.pyplot as plt\n",
    "\n",
    "plt.plot(param_range, np.mean(train_scores, axis = 1), label = 'train')\n",
    "plt.plot(param_range, np.mean(test_scores, axis = 1), label = 'test')\n",
    "\n",
    "plt.xlabel('Depth of tree')\n",
    "plt.ylabel('Model performance r2')\n",
    "\n",
    "plt.legend()\n",
    "plt.show()"
   ]
  },
  {
   "cell_type": "code",
   "execution_count": null,
   "metadata": {},
   "outputs": [],
   "source": [
    "# Create learning curve for k-Neighbors\n",
    "x,y = shuffle(x, y)\n",
    "train_sizes_abs, train_scores, test_scores = learning_curve(KNeighborsClassifier(), x, y)"
   ]
  },
  {
   "cell_type": "code",
   "execution_count": null,
   "metadata": {},
   "outputs": [],
   "source": [
    "# Plot learning curve\n",
    "%matplotlib inline\n",
    "import matplotlib.pyplot as plt\n",
    "\n",
    "plt.plot(train_sizes_abs, np.mean(train_scores, axis = 1), label = 'train')\n",
    "plt.plot(train_sizes_abs, np.mean(test_scores, axis = 1), label = 'test')\n",
    "\n",
    "plt.xlabel('Number of data samples')\n",
    "plt.ylabel('Model performance r2')\n",
    "\n",
    "plt.legend()\n",
    "plt.show()"
   ]
  },
  {
   "cell_type": "code",
   "execution_count": null,
   "metadata": {},
   "outputs": [],
   "source": []
  },
  {
   "cell_type": "code",
   "execution_count": null,
   "metadata": {},
   "outputs": [],
   "source": []
  }
 ],
 "metadata": {
  "kernelspec": {
   "display_name": "Python 3",
   "language": "python",
   "name": "python3"
  },
  "language_info": {
   "codemirror_mode": {
    "name": "ipython",
    "version": 3
   },
   "file_extension": ".py",
   "mimetype": "text/x-python",
   "name": "python",
   "nbconvert_exporter": "python",
   "pygments_lexer": "ipython3",
   "version": "3.6.9"
  }
 },
 "nbformat": 4,
 "nbformat_minor": 4
}
