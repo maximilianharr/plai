{
 "cells": [
  {
   "cell_type": "markdown",
   "metadata": {},
   "source": [
    "\n",
    "## Imagenet-Challenge\n",
    "Predict correct category\n",
    "- 1000 categories\n",
    "- Top1 Score: Category correctly estimated\n",
    "- Top5 Score: Category in best 5 categories\n",
    "\n",
    "<img src=\"../doc/imagenet_challenge.png\" alt=\"ImageNet Challenge\" width=\"500\"/>\n",
    "\n",
    "## Model Zoo\n",
    "Collection of pre-trained models.\n",
    "- Implementations of common nets  \n",
    "  https://github.com/keras-team/keras-applications  \n",
    "- Pre-trained models  \n",
    "  https://keras.io/api/applications/\n",
    "- Some trained *.h5 models  \n",
    "  https://github.com/fchollet/deep-learning-models/releases/  \n",
    "\n",
    "VGG16 model (downloaded when keras.applications.vgg6 is run): \n",
    "- https://github.com/fchollet/deep-learning-models/releases/download/v0.1/vgg16_weights_tf_dim_ordering_tf_kernels.h5:\n",
    "\n",
    "### VGG16\n",
    "Overview: https://neurohive.io/en/popular-networks/vgg16/\n",
    "Implementation: https://github.com/keras-team/keras-applications/blob/master/keras_applications/vgg16.py\n",
    "- multiple Conv2d + MapPooling\n",
    "- Fully-connected + softmax layer at end\n",
    "- approx 530 MB (many layers / weights!!!)\n",
    "- \n"
   ]
  },
  {
   "cell_type": "code",
   "execution_count": null,
   "metadata": {},
   "outputs": [],
   "source": [
    "# imports\n",
    "from keras.preprocessing.image import load_img, img_to_array\n",
    "\n",
    "import keras.applications.vgg16 as vgg16\n",
    "import keras.applications.vgg19 as vgg19"
   ]
  },
  {
   "cell_type": "code",
   "execution_count": null,
   "metadata": {},
   "outputs": [],
   "source": [
    "# Load and convert image to fit CNN input layer\n",
    "img = load_img('../res/dog.jpg', target_size=(224, 224))\n",
    "img_array = img_to_array(img)\n",
    "img_array = img_array.reshape(1, 224, 224, 3)\n",
    "img"
   ]
  },
  {
   "cell_type": "markdown",
   "metadata": {},
   "source": [
    "### Make prediction on image using pre-trained VGG16 net"
   ]
  },
  {
   "cell_type": "code",
   "execution_count": null,
   "metadata": {},
   "outputs": [],
   "source": [
    "# Preprocess input to be \n",
    "img_vgg16 = vgg16.preprocess_input(img_array)"
   ]
  },
  {
   "cell_type": "code",
   "execution_count": null,
   "metadata": {},
   "outputs": [],
   "source": [
    "# Load VGG16 model\n",
    "model = vgg16.VGG16()"
   ]
  },
  {
   "cell_type": "code",
   "execution_count": null,
   "metadata": {},
   "outputs": [],
   "source": [
    "# Predict image\n",
    "pred = model.predict(img_vgg16)\n",
    "vgg16.decode_predictions(pred)"
   ]
  },
  {
   "cell_type": "markdown",
   "metadata": {},
   "source": [
    "### ... Use VGG19 instead of VGG16"
   ]
  },
  {
   "cell_type": "code",
   "execution_count": null,
   "metadata": {},
   "outputs": [],
   "source": [
    "# Preprocess input to be \n",
    "img_vgg19 = vgg19.preprocess_input(img_array)"
   ]
  },
  {
   "cell_type": "code",
   "execution_count": null,
   "metadata": {},
   "outputs": [],
   "source": [
    "# Load VGG16 model\n",
    "model = vgg19.VGG19()"
   ]
  },
  {
   "cell_type": "code",
   "execution_count": null,
   "metadata": {},
   "outputs": [],
   "source": [
    "# Predict image\n",
    "pred = model.predict(img_vgg19)\n",
    "vgg19.decode_predictions(pred)"
   ]
  }
 ],
 "metadata": {
  "kernelspec": {
   "display_name": "Python 3",
   "language": "python",
   "name": "python3"
  },
  "language_info": {
   "codemirror_mode": {
    "name": "ipython",
    "version": 3
   },
   "file_extension": ".py",
   "mimetype": "text/x-python",
   "name": "python",
   "nbconvert_exporter": "python",
   "pygments_lexer": "ipython3",
   "version": "3.6.9"
  }
 },
 "nbformat": 4,
 "nbformat_minor": 4
}
