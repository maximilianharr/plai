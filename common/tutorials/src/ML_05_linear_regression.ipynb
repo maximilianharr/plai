{
 "cells": [
  {
   "cell_type": "code",
   "execution_count": null,
   "metadata": {},
   "outputs": [],
   "source": [
    "import pandas as pd"
   ]
  },
  {
   "cell_type": "code",
   "execution_count": null,
   "metadata": {},
   "outputs": [],
   "source": [
    "# Read CSV\n",
    "df = pd.read_csv(\"../res/wohnungspreise.csv\")"
   ]
  },
  {
   "cell_type": "code",
   "execution_count": null,
   "metadata": {},
   "outputs": [],
   "source": [
    "# Print first five rows\n",
    "df.head()"
   ]
  },
  {
   "cell_type": "code",
   "execution_count": null,
   "metadata": {},
   "outputs": [],
   "source": [
    "# Print figure\n",
    "import matplotlib.pyplot as plt\n",
    "\n",
    "plt.scatter(df[\"Quadratmeter\"], df[\"Verkaufspreis\"])\n",
    "plt.show()"
   ]
  },
  {
   "cell_type": "code",
   "execution_count": null,
   "metadata": {},
   "outputs": [],
   "source": [
    "# Linear regression\n",
    "from sklearn.linear_model import LinearRegression\n",
    "\n",
    "model = LinearRegression()\n",
    "model.fit(df[[\"Quadratmeter\"]], df[[\"Verkaufspreis\"]])\n",
    "print(\"Intercept: \" + str(model.intercept_))\n",
    "print(\"Coeff: \" + str(model.coef_))"
   ]
  },
  {
   "cell_type": "code",
   "execution_count": null,
   "metadata": {},
   "outputs": [],
   "source": [
    "# Use/show regression\n",
    "predicted = model.predict([[20], [100]])\n",
    "\n",
    "min_x = min(df[\"Quadratmeter\"])\n",
    "max_x = max(df[\"Quadratmeter\"])\n",
    "\n",
    "plt.plot([min_x,max_x], predicted, color = \"red\")\n",
    "plt.scatter(df[\"Quadratmeter\"], df[\"Verkaufspreis\"])"
   ]
  }
 ],
 "metadata": {
  "kernelspec": {
   "display_name": "Python 3",
   "language": "python",
   "name": "python3"
  },
  "language_info": {
   "codemirror_mode": {
    "name": "ipython",
    "version": 3
   },
   "file_extension": ".py",
   "mimetype": "text/x-python",
   "name": "python",
   "nbconvert_exporter": "python",
   "pygments_lexer": "ipython3",
   "version": "3.6.9"
  }
 },
 "nbformat": 4,
 "nbformat_minor": 4
}
