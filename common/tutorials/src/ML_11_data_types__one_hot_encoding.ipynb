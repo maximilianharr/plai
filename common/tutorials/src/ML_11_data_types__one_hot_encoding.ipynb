{
 "cells": [
  {
   "cell_type": "code",
   "execution_count": null,
   "metadata": {},
   "outputs": [],
   "source": [
    "import pandas as pd\n",
    "from sklearn.metrics import r2_score\n",
    "from sklearn.linear_model import LinearRegression\n",
    "from sklearn.model_selection import train_test_split"
   ]
  },
  {
   "cell_type": "code",
   "execution_count": null,
   "metadata": {},
   "outputs": [],
   "source": [
    "# Read data\n",
    "df = pd.read_csv(\"../res/hotels.csv\")\n",
    "\n",
    "df = pd.get_dummies(df, columns = [\"Stadt\"])\n",
    "\n",
    "df.head()"
   ]
  },
  {
   "cell_type": "code",
   "execution_count": null,
   "metadata": {},
   "outputs": [],
   "source": [
    "# Prepare data\n",
    "y = df[[\"Preis in Mio\"]].values\n",
    "x = df[[\"Gewinn\", \"Quadratmeter\", \"Stadt_Berlin\", \"Stadt_Köln\"]].values\n",
    "# Alternatively\n",
    "# x = df.drop(labels = [\"Preis in Mio\", \"Stadt_München\"], axis = 1 )"
   ]
  },
  {
   "cell_type": "code",
   "execution_count": null,
   "metadata": {},
   "outputs": [],
   "source": [
    "# Divide data in test and train set\n",
    "x_train, x_test, y_train, y_test = train_test_split(x, y, random_state = 0, test_size = 0.25)\n",
    "\n",
    "# Train model\n",
    "model = LinearRegression()\n",
    "model.fit(x_train, y_train)\n",
    "\n",
    "# Compute r2\n",
    "score = model.score(x_test, y_test)\n",
    "print(\"Performace: \", score)"
   ]
  },
  {
   "cell_type": "code",
   "execution_count": null,
   "metadata": {},
   "outputs": [],
   "source": [
    "model.coef_"
   ]
  },
  {
   "cell_type": "code",
   "execution_count": null,
   "metadata": {},
   "outputs": [],
   "source": [
    "# Predict value for different cities\n",
    "print(\"Hotel in München costs: %s Mio.€\" % model.predict([[10000, 300, 0, 0]])[0][0])\n",
    "print(\"Hotel in Berlin costs: %s Mio.€\" % model.predict([[10000, 300, 1, 0]])[0][0])\n",
    "print(\"Hotel in Köln costs: %s Mio.€\" % model.predict([[10000, 300, 0, 1]])[0][0])"
   ]
  },
  {
   "cell_type": "code",
   "execution_count": null,
   "metadata": {},
   "outputs": [],
   "source": []
  }
 ],
 "metadata": {
  "kernelspec": {
   "display_name": "Python 3",
   "language": "python",
   "name": "python3"
  },
  "language_info": {
   "codemirror_mode": {
    "name": "ipython",
    "version": 3
   },
   "file_extension": ".py",
   "mimetype": "text/x-python",
   "name": "python",
   "nbconvert_exporter": "python",
   "pygments_lexer": "ipython3",
   "version": "3.6.9"
  }
 },
 "nbformat": 4,
 "nbformat_minor": 4
}
