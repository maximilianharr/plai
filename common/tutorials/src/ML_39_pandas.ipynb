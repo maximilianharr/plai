{
 "cells": [
  {
   "cell_type": "markdown",
   "metadata": {},
   "source": [
    "### Read data using pandas\n"
   ]
  },
  {
   "cell_type": "code",
   "execution_count": null,
   "metadata": {},
   "outputs": [],
   "source": [
    "# import\n",
    "import numpy as np\n",
    "import pandas as pd"
   ]
  },
  {
   "cell_type": "code",
   "execution_count": null,
   "metadata": {},
   "outputs": [],
   "source": [
    "# Read CSV\n",
    "df = pd.read_csv(\"../res/classification.csv\")\n",
    "df.head()"
   ]
  },
  {
   "cell_type": "code",
   "execution_count": null,
   "metadata": {},
   "outputs": [],
   "source": [
    "# Binary operators on dataframe\n",
    "df[df[\"age\"] > 20]\n",
    "\n",
    "# Multiple binary operators\n",
    "df[(df[\"age\"] > 20) & (df[\"age\"] < 30)]\n",
    "\n",
    "df[(df[\"age\"] < 20) | (df[\"age\"] > 30)]"
   ]
  },
  {
   "cell_type": "code",
   "execution_count": null,
   "metadata": {},
   "outputs": [],
   "source": [
    "# Delete items\n",
    "df.drop(1).head()\n",
    "\n",
    "# Delete multiple items\n",
    "df.drop([1, 3]).head()"
   ]
  },
  {
   "cell_type": "code",
   "execution_count": null,
   "metadata": {},
   "outputs": [],
   "source": [
    "# Remove \"success\"ful people\n",
    "success = df[df[\"success\"] == 1]\n",
    "df.drop(success.index).head()\n",
    "\n",
    "success.head()"
   ]
  },
  {
   "cell_type": "code",
   "execution_count": null,
   "metadata": {},
   "outputs": [],
   "source": [
    "df = pd.read_csv(\"../res/classification.csv\")\n",
    "\n",
    "# Replace data in pandas\n",
    "df[df[\"age\"] < 18].head()\n",
    "\n",
    "# np.where\n",
    "np.where([True, False], [1, 2], [3, 4])\n",
    "\n",
    "# Replace age below 18 with 'underage' and 'full age'\n",
    "df2 = df\n",
    "df2[\"age\"] = np.where(df[\"age\"] < 18, \"underage\", \"full age\")\n",
    "\n",
    "# Replace data by factor\n",
    "df2[\"interest\"] = df2[\"interest\"] * 5\n",
    "\n",
    "df2.head()"
   ]
  },
  {
   "cell_type": "code",
   "execution_count": null,
   "metadata": {},
   "outputs": [],
   "source": [
    "# Sorting dataframe\n",
    "# Change the dataframe (where operation is applied) using:\n",
    "# inplace = True\n",
    "df.sort_values(\"age\").head()"
   ]
  },
  {
   "cell_type": "code",
   "execution_count": null,
   "metadata": {},
   "outputs": [],
   "source": [
    "# Print meta data of dataframe\n",
    "df.info()"
   ]
  },
  {
   "cell_type": "code",
   "execution_count": null,
   "metadata": {},
   "outputs": [],
   "source": [
    "# Get statistics of dataframe\n",
    "df.describe()"
   ]
  },
  {
   "cell_type": "code",
   "execution_count": null,
   "metadata": {},
   "outputs": [],
   "source": []
  },
  {
   "cell_type": "code",
   "execution_count": null,
   "metadata": {},
   "outputs": [],
   "source": []
  },
  {
   "cell_type": "code",
   "execution_count": null,
   "metadata": {},
   "outputs": [],
   "source": []
  },
  {
   "cell_type": "code",
   "execution_count": null,
   "metadata": {},
   "outputs": [],
   "source": []
  },
  {
   "cell_type": "code",
   "execution_count": null,
   "metadata": {},
   "outputs": [],
   "source": []
  }
 ],
 "metadata": {
  "kernelspec": {
   "display_name": "Python 3",
   "language": "python",
   "name": "python3"
  },
  "language_info": {
   "codemirror_mode": {
    "name": "ipython",
    "version": 3
   },
   "file_extension": ".py",
   "mimetype": "text/x-python",
   "name": "python",
   "nbconvert_exporter": "python",
   "pygments_lexer": "ipython3",
   "version": "3.6.9"
  }
 },
 "nbformat": 4,
 "nbformat_minor": 4
}
