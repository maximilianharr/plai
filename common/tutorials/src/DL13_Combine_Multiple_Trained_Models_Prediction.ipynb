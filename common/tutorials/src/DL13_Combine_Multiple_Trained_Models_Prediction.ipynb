{
 "cells": [
  {
   "cell_type": "markdown",
   "metadata": {},
   "source": [
    "###"
   ]
  },
  {
   "cell_type": "code",
   "execution_count": null,
   "metadata": {},
   "outputs": [],
   "source": [
    "# imports\n",
    "import keras.models as models\n",
    "import keras.applications.vgg16 as vgg16\n",
    "import numpy as np\n",
    "import os\n",
    "from PIL import Image"
   ]
  },
  {
   "cell_type": "code",
   "execution_count": null,
   "metadata": {},
   "outputs": [],
   "source": [
    "# Get root ws path\n",
    "import plai.workspace.init # source setup.bash\n",
    "ws_root = plai.workspace.init.get_ws_path()"
   ]
  },
  {
   "cell_type": "code",
   "execution_count": null,
   "metadata": {},
   "outputs": [],
   "source": [
    "# Load VGG16 model\n",
    "vgg16_model = vgg16.VGG16(include_top=False, input_shape=(224, 224, 3))"
   ]
  },
  {
   "cell_type": "code",
   "execution_count": null,
   "metadata": {},
   "outputs": [],
   "source": [
    "# Load pre-trained model (based on output of VGG16)\n",
    "model = models.load_model( os.path.join(ws_root, 'res', 'trained', 'build', 'transfer_learning_cats_dogs.h5') )"
   ]
  },
  {
   "cell_type": "code",
   "execution_count": null,
   "metadata": {},
   "outputs": [],
   "source": [
    "# Read sample images\n",
    "image_dog = Image.open('../res/dog.jpg')\n",
    "image_cat = Image.open('../res/cat.jpg')\n",
    "\n",
    "# \n",
    "image_dog = image_dog.resize((224, 224), Image.LANCZOS)\n",
    "image_cat = image_cat.resize((224, 224), Image.LANCZOS)\n",
    "\n",
    "image_dog = np.array(image_dog).astype('float32').reshape(1, 224, 224, 3)\n",
    "image_cat = np.array(image_cat).astype('float32').reshape(1, 224, 224, 3)\n",
    "\n",
    "image_dog_ = vgg16.preprocess_input(image_dog)\n",
    "image_cat_ = vgg16.preprocess_input(image_cat)"
   ]
  },
  {
   "cell_type": "code",
   "execution_count": null,
   "metadata": {},
   "outputs": [],
   "source": [
    "# Run image through VGG16\n",
    "x_dog_after_vgg16 = vgg16_model.predict(image_dog)\n",
    "x_cat_after_vgg16 = vgg16_model.predict(image_cat)"
   ]
  },
  {
   "cell_type": "code",
   "execution_count": null,
   "metadata": {},
   "outputs": [],
   "source": [
    "# Run VGG16 model through our trained network\n",
    "dog_is_cat = float(model.predict(x_dog_after_vgg16)[0][0])*100\n",
    "cat_is_cat = float(model.predict(x_cat_after_vgg16)[0][0])*100\n",
    "\n",
    "print('Dog.jpg is %f percent a cat' % dog_is_cat)\n",
    "print('Cat.jpg is %f percent a cat' % cat_is_cat)"
   ]
  },
  {
   "cell_type": "code",
   "execution_count": null,
   "metadata": {},
   "outputs": [],
   "source": []
  }
 ],
 "metadata": {
  "kernelspec": {
   "display_name": "Python 3",
   "language": "python",
   "name": "python3"
  },
  "language_info": {
   "codemirror_mode": {
    "name": "ipython",
    "version": 3
   },
   "file_extension": ".py",
   "mimetype": "text/x-python",
   "name": "python",
   "nbconvert_exporter": "python",
   "pygments_lexer": "ipython3",
   "version": "3.6.9"
  }
 },
 "nbformat": 4,
 "nbformat_minor": 4
}
