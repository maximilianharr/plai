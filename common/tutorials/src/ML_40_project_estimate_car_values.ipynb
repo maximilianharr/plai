{
 "cells": [
  {
   "cell_type": "markdown",
   "metadata": {},
   "source": [
    "### Project: mode to estimate car values\n"
   ]
  },
  {
   "cell_type": "code",
   "execution_count": null,
   "metadata": {},
   "outputs": [],
   "source": [
    "# import\n",
    "import numpy as np\n",
    "import pandas as pd\n",
    "import seaborn as sns\n",
    "\n",
    "from sklearn.model_selection import train_test_split\n",
    "from sklearn.linear_model import LinearRegression"
   ]
  },
  {
   "cell_type": "code",
   "execution_count": null,
   "metadata": {},
   "outputs": [],
   "source": [
    "# Read CSV\n",
    "df = pd.read_csv(\"../res/autos.csv\", encoding = \"iso8859-1\")\n",
    "\n",
    "# Drop some columns\n",
    "df = df.drop([\"dateCrawled\", \"offerType\", \"seller\", \"abtest\", \"dateCreated\", \"nrOfPictures\", \"lastSeen\", \"postalCode\"], axis = 1)\n",
    "\n",
    "# postal Code could be added using pyGeoDb\n",
    "# https://pypi.org/project/pyGeoDb/\n",
    "\n",
    "# Convert year + month to float value\n",
    "df[\"monthOfRegistration\"] = np.where(df[\"monthOfRegistration\"] == 0, 6, df[\"monthOfRegistration\"])\n",
    "df[\"registration\"] = df[\"yearOfRegistration\"] + (df[\"monthOfRegistration\"] - 1) / 12\n",
    "\n",
    "df = df.drop([\"yearOfRegistration\", \"monthOfRegistration\"], axis = 1)\n",
    "\n",
    "df.head()"
   ]
  },
  {
   "cell_type": "code",
   "execution_count": null,
   "metadata": {},
   "outputs": [],
   "source": [
    "# Inspect dataset\n",
    "# print(df[\"abtest\"].unique())\n",
    "# print(\"Dataset length: %d\" % len(df))\n",
    "## Seller mostly private > remove\n",
    "# print(df[\"seller\"].unique())\n",
    "# df[\"seller\"].describe()\n",
    "# len(df[df[\"seller\"] == \"gewerblich\"])\n",
    "## Offer Type > remove\n",
    "# df[\"offerType\"].describe()"
   ]
  },
  {
   "cell_type": "code",
   "execution_count": null,
   "metadata": {},
   "outputs": [],
   "source": [
    "# Remove vehicles with price zero\n",
    "df.drop(df[df[\"price\"] == 0].index, axis = 0)"
   ]
  },
  {
   "cell_type": "code",
   "execution_count": null,
   "metadata": {},
   "outputs": [],
   "source": [
    "# Remove vehicles with zero PS\n",
    "df.drop(df[df[\"powerPS\"] == 0].index, axis = 0)"
   ]
  },
  {
   "cell_type": "code",
   "execution_count": null,
   "metadata": {},
   "outputs": [],
   "source": [
    "# Remove invalid 'repaired damage' fields\n",
    "df[\"notRepairedDamage\"].unique()\n",
    "df[\"notRepairedDamage\"] = np.where(df[\"notRepairedDamage\"] == \"ja\", \"1\", df[\"notRepairedDamage\"])\n",
    "df[\"notRepairedDamage\"] = np.where(df[\"notRepairedDamage\"] == \"nein\", \"0\", df[\"notRepairedDamage\"])\n",
    "\n",
    "df = df[df[\"notRepairedDamage\"].notnull()]\n",
    "df.head()"
   ]
  },
  {
   "cell_type": "code",
   "execution_count": null,
   "metadata": {},
   "outputs": [],
   "source": [
    "# Visualize all data using seaborn to remove outliers\n",
    "%matplotlib inline\n",
    "g = sns.pairplot(df, hue=\"fuelType\")"
   ]
  },
  {
   "cell_type": "code",
   "execution_count": null,
   "metadata": {},
   "outputs": [],
   "source": [
    "# Remove outlier values seen in pairplot\n",
    "df = df[(df[\"price\"] < 50000) & (df[\"powerPS\"] < 500) & (df[\"registration\"] <= 2021)]"
   ]
  },
  {
   "cell_type": "code",
   "execution_count": null,
   "metadata": {},
   "outputs": [],
   "source": [
    "# Perform One-Hot encoding\n",
    "df2 = pd.get_dummies(df, columns = [\"vehicleType\", \"gearbox\", \"fuelType\", \"brand\"]).drop(\"model\", axis = 1)\n",
    "df2.head()"
   ]
  },
  {
   "cell_type": "code",
   "execution_count": null,
   "metadata": {},
   "outputs": [],
   "source": [
    "# Furter increase price range\n",
    "df2 = df2[(df2[\"price\"] > 500) & (df2[\"price\"] < 20000)]\n",
    "\n",
    "# Get data\n",
    "x = df2.drop([\"name\", \"price\"], axis = 1)\n",
    "y = df2[\"price\"]"
   ]
  },
  {
   "cell_type": "code",
   "execution_count": null,
   "metadata": {},
   "outputs": [],
   "source": [
    "# Split data\n",
    "x_train, x_test, y_train, y_test = train_test_split(x, y, random_state = 0)\n",
    "\n",
    "model = LinearRegression()\n",
    "model.fit(x_train, y_train)\n",
    "\n",
    "print(model.score(x_train, y_train))\n",
    "print(model.score(x_test, y_test))"
   ]
  },
  {
   "cell_type": "code",
   "execution_count": null,
   "metadata": {},
   "outputs": [],
   "source": []
  },
  {
   "cell_type": "code",
   "execution_count": null,
   "metadata": {},
   "outputs": [],
   "source": []
  }
 ],
 "metadata": {
  "kernelspec": {
   "display_name": "Python 3",
   "language": "python",
   "name": "python3"
  },
  "language_info": {
   "codemirror_mode": {
    "name": "ipython",
    "version": 3
   },
   "file_extension": ".py",
   "mimetype": "text/x-python",
   "name": "python",
   "nbconvert_exporter": "python",
   "pygments_lexer": "ipython3",
   "version": "3.6.9"
  }
 },
 "nbformat": 4,
 "nbformat_minor": 4
}
