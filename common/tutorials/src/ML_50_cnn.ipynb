{
 "cells": [
  {
   "cell_type": "markdown",
   "metadata": {},
   "source": [
    "### CNN - Convolutional Neural Networks\n",
    "\n",
    "Instead of nodes with activation functions (Neural Networks), CNNs learn convolution matrices. Convolution (e.g. edge detection) is a very popular operator on images. A model / network that is adapted to it's problem usually has better results."
   ]
  },
  {
   "cell_type": "code",
   "execution_count": null,
   "metadata": {},
   "outputs": [],
   "source": [
    "# import\n",
    "import gzip\n",
    "import numpy as np\n",
    "\n",
    "import keras.backend as K\n",
    "from keras.layers import Dense, Conv2D, Flatten, MaxPooling2D, Dropout\n",
    "from keras.models import Sequential\n",
    "from keras.utils import to_categorical"
   ]
  },
  {
   "cell_type": "code",
   "execution_count": null,
   "metadata": {},
   "outputs": [],
   "source": [
    "# FashionMNIST: https://github.com/zalandoresearch/fashion-mnist\n",
    "def open_images(filename):\n",
    "    with gzip.open(filename, \"rb\") as file:\n",
    "        data = file.read()\n",
    "        return np.frombuffer(data, dtype=np.uint8, offset=16)\\\n",
    "            .reshape(-1, 28, 28)\\\n",
    "            .astype(np.float32)\n",
    "\n",
    "\n",
    "def open_labels(filename):\n",
    "    with gzip.open(filename, \"rb\") as file:\n",
    "        data = file.read()\n",
    "        return np.frombuffer(data, dtype=np.uint8, offset=8)"
   ]
  },
  {
   "cell_type": "code",
   "execution_count": null,
   "metadata": {},
   "outputs": [],
   "source": [
    "# Prepare data\n",
    "x_train = open_images(\"../res/fashionmnist/train-images-idx3-ubyte.gz\")\n",
    "y_train = open_labels(\"../res/fashionmnist/train-labels-idx1-ubyte.gz\")\n",
    "\n",
    "x_test = open_images(\"../res/fashionmnist/t10k-images-idx3-ubyte.gz\")\n",
    "y_test = open_labels(\"../res/fashionmnist/t10k-labels-idx1-ubyte.gz\")\n",
    "\n",
    "y_train = to_categorical(y_train) # Train model which detects all classes\n",
    "y_test = to_categorical(y_test)"
   ]
  },
  {
   "cell_type": "code",
   "execution_count": null,
   "metadata": {},
   "outputs": [],
   "source": [
    "# Initialize model\n",
    "model = Sequential()\n",
    "\n",
    "# Add convolutional layer\n",
    "model.add( Conv2D(\n",
    "    filters = 30, \n",
    "    kernel_size = (3, 3), \n",
    "    activation = \"relu\", \n",
    "    input_shape = (28, 28, 1)))\n",
    "\n",
    "# Add layer that \n",
    "model.add(Flatten())\n",
    "\n",
    "# Add output layer\n",
    "model.add(Dense(10, activation = \"softmax\"))"
   ]
  },
  {
   "cell_type": "code",
   "execution_count": null,
   "metadata": {},
   "outputs": [],
   "source": [
    "# Compile model\n",
    "model.compile(optimizer = \"rmsprop\", loss = \"categorical_crossentropy\", metrics = [\"accuracy\"])"
   ]
  },
  {
   "cell_type": "code",
   "execution_count": null,
   "metadata": {},
   "outputs": [],
   "source": [
    "# Train model\n",
    "model.fit(\n",
    "    x_train.reshape(-1, 28, 28, 1),\n",
    "    y_train,\n",
    "    epochs = 10,\n",
    "    batch_size = 1000)"
   ]
  },
  {
   "cell_type": "code",
   "execution_count": null,
   "metadata": {
    "scrolled": true
   },
   "outputs": [],
   "source": [
    "# Evaluate using TRAIN data\n",
    "print(model.metrics_names)\n",
    "print(model.evaluate(x_test.reshape(-1, 28, 28, 1), y_test))"
   ]
  },
  {
   "cell_type": "markdown",
   "metadata": {},
   "source": [
    "### Visualize Learned matrices"
   ]
  },
  {
   "cell_type": "code",
   "execution_count": null,
   "metadata": {},
   "outputs": [],
   "source": [
    "# Visualize learned layers\n",
    "# K.eval loads data to CPU (might be stored on GPU)\n",
    "learned_matrices = K.eval(model.layers[0].weights[0])\n",
    "# print(data)"
   ]
  },
  {
   "cell_type": "code",
   "execution_count": null,
   "metadata": {},
   "outputs": [],
   "source": [
    "# Visualize learned matrices\n",
    "import matplotlib.pyplot as plt\n",
    "columns = int(np.round(learned_matrices.shape[3]/5))\n",
    "rows = 5\n",
    "\n",
    "fig=plt.figure(figsize=(2.0*columns, 2.0*rows))\n",
    "plt.axis('off')\n",
    "\n",
    "for i in range(1, columns*rows):\n",
    "    if i == learned_matrices.shape[3]-1:\n",
    "        break\n",
    "    img = learned_matrices[:, :, :, i].reshape(3, 3)\n",
    "    fig.add_subplot(rows, columns, i)\n",
    "    plt.imshow(img)\n",
    "    plt.axis('off')"
   ]
  },
  {
   "cell_type": "markdown",
   "metadata": {},
   "source": [
    "### Visualize result / operation of a convolutional layer"
   ]
  },
  {
   "cell_type": "code",
   "execution_count": null,
   "metadata": {},
   "outputs": [],
   "source": [
    "# Initialize second model\n",
    "model2 = Sequential()\n",
    "\n",
    "# Copy convolutional layer of first model into second model\n",
    "model2.add( Conv2D(\n",
    "    filters = 30,\n",
    "    kernel_size = (3, 3), \n",
    "    activation = \"sigmoid\", \n",
    "    input_shape = (28, 28, 1),\n",
    "    weights = model.layers[0].get_weights() ))"
   ]
  },
  {
   "cell_type": "code",
   "execution_count": null,
   "metadata": {},
   "outputs": [],
   "source": [
    "# Visualize sample image\n",
    "%matplotlib inline\n",
    "import matplotlib.pyplot as plt\n",
    "\n",
    "plt.imshow(x_test[0], cmap = \"gray_r\")\n",
    "plt.show()"
   ]
  },
  {
   "cell_type": "code",
   "execution_count": null,
   "metadata": {},
   "outputs": [],
   "source": [
    "# Forward sample image throw layer (model)\n",
    "result = model2.predict(x_test[0].reshape(1, 28, 28, 1))"
   ]
  },
  {
   "cell_type": "code",
   "execution_count": null,
   "metadata": {},
   "outputs": [],
   "source": [
    "# Visualize result of all convolutional matrices\n",
    "columns = int(np.round(result.shape[3]/5))\n",
    "rows = 5\n",
    "\n",
    "fig=plt.figure(figsize=(2.0*columns, 2.0*rows))\n",
    "plt.axis('off')\n",
    "\n",
    "for i in range(1, columns*rows):\n",
    "    if i == result.shape[3]-1:\n",
    "        break\n",
    "    img = result[0][:, :, i]\n",
    "    fig.add_subplot(rows, columns, i)\n",
    "    plt.imshow(img)\n",
    "    # plt.imshow(img, cmap = \"gray_r\")\n",
    "    plt.axis('off')"
   ]
  },
  {
   "cell_type": "markdown",
   "metadata": {},
   "source": [
    "### Max-Pooling Layer\n",
    "Operation: Get highest value within matrix.\n",
    "- Makes model more robust / generic\n",
    "- Smaller output layer > faster learning rate"
   ]
  },
  {
   "cell_type": "code",
   "execution_count": null,
   "metadata": {},
   "outputs": [],
   "source": [
    "# Initialize model\n",
    "model3 = Sequential()\n",
    "\n",
    "# Add convolutional layer\n",
    "model3.add( Conv2D(\n",
    "    filters = 10, \n",
    "    kernel_size = (3, 3), \n",
    "    activation = \"relu\", \n",
    "    input_shape = (28, 28, 1)))\n",
    "\n",
    "# Add MaxPooling layer\n",
    "model3.add( MaxPooling2D(pool_size = (2, 2) ))\n",
    "\n",
    "# Add layer that \n",
    "model3.add(Flatten())\n",
    "\n",
    "# Add output layer\n",
    "model3.add(Dense(10, activation = \"softmax\"))"
   ]
  },
  {
   "cell_type": "code",
   "execution_count": null,
   "metadata": {},
   "outputs": [],
   "source": [
    "# Compile model\n",
    "model3.compile(optimizer = \"rmsprop\", loss = \"categorical_crossentropy\", metrics = [\"accuracy\"])"
   ]
  },
  {
   "cell_type": "code",
   "execution_count": null,
   "metadata": {},
   "outputs": [],
   "source": [
    "# Train model\n",
    "model3.fit(\n",
    "    x_train.reshape(-1, 28, 28, 1),\n",
    "    y_train,\n",
    "    epochs = 10,\n",
    "    batch_size = 1000)"
   ]
  },
  {
   "cell_type": "code",
   "execution_count": null,
   "metadata": {},
   "outputs": [],
   "source": [
    "# Evaluate using TRAIN data\n",
    "print(model3.metrics_names)\n",
    "print(model3.evaluate(x_test.reshape(-1, 28, 28, 1), y_test))"
   ]
  },
  {
   "cell_type": "markdown",
   "metadata": {},
   "source": [
    "### Visualize CNN\n",
    "An Interactive Node-Link Visualization of Convolutional Neural Networks\n",
    "https://www.popsci.com/gaze-inside-mind-artificial-intelligence/"
   ]
  },
  {
   "cell_type": "markdown",
   "metadata": {},
   "source": [
    "### Dropout\n",
    "Idea: For each epoch, randomly remove some connections (during training) in net to make it more generic.\n",
    "Apply a Dropout layer when your model performance is a lot better on training dataset compared to test dataset (possibly overfitting)."
   ]
  },
  {
   "cell_type": "code",
   "execution_count": null,
   "metadata": {},
   "outputs": [],
   "source": [
    "# Initialize model\n",
    "model4 = Sequential()\n",
    "\n",
    "# Add convolutional layer\n",
    "model4.add( Conv2D(\n",
    "    filters = 10, \n",
    "    kernel_size = (3, 3), \n",
    "    activation = \"relu\", \n",
    "    input_shape = (28, 28, 1)))\n",
    "\n",
    "# Add MaxPooling layer\n",
    "model4.add( MaxPooling2D(pool_size = (2, 2) ))\n",
    "\n",
    "# Add dropout layer (randomly removes some connections in each epoch)\n",
    "model4.add(Dropout(0.25))\n",
    "\n",
    "# Add layer that \n",
    "model4.add(Flatten())\n",
    "\n",
    "# Add output layer\n",
    "model4.add(Dense(100, activation = \"sigmoid\"))\n",
    "\n",
    "# Add output layer\n",
    "model4.add(Dense(10, activation = \"softmax\"))"
   ]
  },
  {
   "cell_type": "code",
   "execution_count": null,
   "metadata": {},
   "outputs": [],
   "source": [
    "# Compile model\n",
    "model4.compile(optimizer = \"rmsprop\", loss = \"categorical_crossentropy\", metrics = [\"accuracy\"])"
   ]
  },
  {
   "cell_type": "code",
   "execution_count": null,
   "metadata": {},
   "outputs": [],
   "source": [
    "# Train model\n",
    "model4.fit(\n",
    "    x_train.reshape(-1, 28, 28, 1),\n",
    "    y_train,\n",
    "    epochs = 10,\n",
    "    batch_size = 1000)"
   ]
  },
  {
   "cell_type": "code",
   "execution_count": null,
   "metadata": {},
   "outputs": [],
   "source": [
    "# Evaluate using TRAIN data\n",
    "print(model4.metrics_names)\n",
    "print(model4.evaluate(x_train.reshape(-1, 28, 28, 1), y_train))\n",
    "print(model4.evaluate(x_test.reshape(-1, 28, 28, 1), y_test))"
   ]
  }
 ],
 "metadata": {
  "kernelspec": {
   "display_name": "Python 3",
   "language": "python",
   "name": "python3"
  },
  "language_info": {
   "codemirror_mode": {
    "name": "ipython",
    "version": 3
   },
   "file_extension": ".py",
   "mimetype": "text/x-python",
   "name": "python",
   "nbconvert_exporter": "python",
   "pygments_lexer": "ipython3",
   "version": "3.6.9"
  }
 },
 "nbformat": 4,
 "nbformat_minor": 4
}
