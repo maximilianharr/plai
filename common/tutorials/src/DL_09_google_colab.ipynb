{
 "cells": [
  {
   "cell_type": "code",
   "execution_count": null,
   "metadata": {
    "colab": {
     "base_uri": "https://localhost:8080/",
     "height": 35
    },
    "colab_type": "code",
    "executionInfo": {
     "elapsed": 10022,
     "status": "ok",
     "timestamp": 1588672260450,
     "user": {
      "displayName": "Jannis Seemann",
      "photoUrl": "",
      "userId": "05936000240872539841"
     },
     "user_tz": -180
    },
    "id": "isPcu4_XO1lY",
    "outputId": "e5689cb8-3b18-44ca-98fb-8971dad90480"
   },
   "outputs": [],
   "source": [
    "import tensorflow as tf\n",
    "print(tf.test.gpu_device_name())"
   ]
  },
  {
   "cell_type": "code",
   "execution_count": null,
   "metadata": {
    "colab": {
     "base_uri": "https://localhost:8080/",
     "height": 300
    },
    "colab_type": "code",
    "executionInfo": {
     "elapsed": 3091,
     "status": "ok",
     "timestamp": 1588672290286,
     "user": {
      "displayName": "Jannis Seemann",
      "photoUrl": "",
      "userId": "05936000240872539841"
     },
     "user_tz": -180
    },
    "id": "u6xefowGPxMo",
    "outputId": "b73bbfab-718a-4f90-af08-a2bad9e3ad90"
   },
   "outputs": [],
   "source": [
    "!nvidia-smi"
   ]
  },
  {
   "cell_type": "code",
   "execution_count": null,
   "metadata": {
    "colab": {},
    "colab_type": "code",
    "id": "rSLw02I6RG9e"
   },
   "outputs": [],
   "source": [
    "# Install the PyDrive wrapper & import libraries.\n",
    "# This only needs to be done once per notebook.\n",
    "!pip install -U -q PyDrive\n",
    "from pydrive.auth import GoogleAuth\n",
    "from pydrive.drive import GoogleDrive\n",
    "from google.colab import auth\n",
    "from oauth2client.client import GoogleCredentials\n",
    "\n",
    "# Authenticate and create the PyDrive client.\n",
    "# This only needs to be done once per notebook.\n",
    "auth.authenticate_user()\n",
    "gauth = GoogleAuth()\n",
    "gauth.credentials = GoogleCredentials.get_application_default()\n",
    "drive = GoogleDrive(gauth)"
   ]
  },
  {
   "cell_type": "code",
   "execution_count": null,
   "metadata": {
    "colab": {
     "base_uri": "https://localhost:8080/",
     "height": 106
    },
    "colab_type": "code",
    "executionInfo": {
     "elapsed": 26867,
     "status": "ok",
     "timestamp": 1588672816009,
     "user": {
      "displayName": "Jannis Seemann",
      "photoUrl": "",
      "userId": "05936000240872539841"
     },
     "user_tz": -180
    },
    "id": "gXX6Bv3IRV0V",
    "outputId": "47a018f7-3052-4ba6-f818-d00e97f43239"
   },
   "outputs": [],
   "source": [
    "import os\n",
    "\n",
    "# choose a local (colab) directory to store the data.\n",
    "local_root_path = os.path.expanduser(\"~/data\")\n",
    "try:\n",
    "  os.makedirs(local_root_path)\n",
    "except: pass\n",
    "\n",
    "def ListFolder(google_drive_id, destination):\n",
    "  file_list = drive.ListFile({'q': \"'%s' in parents and trashed=false\" % google_drive_id}).GetList()\n",
    "  counter = 0\n",
    "  for f in file_list:\n",
    "    # If it is a directory then, create the dicrectory and upload the file inside it\n",
    "    if f['mimeType']=='application/vnd.google-apps.folder': \n",
    "      folder_path = os.path.join(destination, f['title'])\n",
    "      os.makedirs(folder_path)\n",
    "      print('creating directory {}'.format(folder_path))\n",
    "      ListFolder(f['id'], folder_path)\n",
    "    else:\n",
    "      fname = os.path.join(destination, f['title'])\n",
    "      f_ = drive.CreateFile({'id': f['id']})\n",
    "      f_.GetContentFile(fname)\n",
    "      counter += 1\n",
    "  print('{} files were uploaded in {}'.format(counter, destination))\n",
    "\n",
    "ListFolder(\"1aLvYGyuY6xWLUssYRVyyk3EtPZodLUBR\", local_root_path)"
   ]
  },
  {
   "cell_type": "code",
   "execution_count": null,
   "metadata": {
    "colab": {},
    "colab_type": "code",
    "id": "wcRljqmaOZ8o"
   },
   "outputs": [],
   "source": [
    "# Vorstellung: MNIST-Daten!\n",
    "# http://yann.lecun.com/exdb/mnist/\n",
    "# FashionMNIST: https://github.com/zalandoresearch/fashion-mnist\n",
    "\n",
    "import gzip\n",
    "import numpy as np\n",
    "from keras.utils import to_categorical\n",
    "\n",
    "def open_images(filename):\n",
    "    with gzip.open(filename, \"rb\") as file:\n",
    "        data = file.read()\n",
    "        return np.frombuffer(data, dtype=np.uint8, offset=16)\\\n",
    "            .reshape(-1, 28, 28)\\\n",
    "            .astype(np.float32)\n",
    "\n",
    "\n",
    "def open_labels(filename):\n",
    "    with gzip.open(filename, \"rb\") as file:\n",
    "        data = file.read()\n",
    "        return np.frombuffer(data, dtype=np.uint8, offset=8)\n",
    "    \n",
    "X_train = open_images(\"/root/data/fashion/train-images-idx3-ubyte.gz\")\n",
    "y_train = open_labels(\"/root/data/fashion/train-labels-idx1-ubyte.gz\")\n",
    "\n",
    "X_test = open_images(\"/root/data/fashion/t10k-images-idx3-ubyte.gz\")\n",
    "y_test = open_labels(\"/root/data/fashion/t10k-labels-idx1-ubyte.gz\")\n",
    "\n",
    "y_train = to_categorical(y_train)\n",
    "y_test = to_categorical(y_test)"
   ]
  },
  {
   "cell_type": "code",
   "execution_count": null,
   "metadata": {
    "colab": {
     "base_uri": "https://localhost:8080/",
     "height": 1000
    },
    "colab_type": "code",
    "executionInfo": {
     "elapsed": 74863,
     "status": "ok",
     "timestamp": 1588673121746,
     "user": {
      "displayName": "Jannis Seemann",
      "photoUrl": "",
      "userId": "05936000240872539841"
     },
     "user_tz": -180
    },
    "id": "FooVBG8iOZ82",
    "outputId": "dd318123-1892-4f19-dafd-f437f8041921"
   },
   "outputs": [],
   "source": [
    "# CNN!\n",
    "\n",
    "from keras.models import Sequential\n",
    "from keras.layers import Dense, Conv2D, Flatten\n",
    "\n",
    "model = Sequential()\n",
    "\n",
    "model.add(Conv2D(30, kernel_size=(3, 3), activation=\"relu\", input_shape=(28, 28, 1)))\n",
    "model.add(Flatten())\n",
    "model.add(Dense(10, activation=\"softmax\"))\n",
    "\n",
    "model.compile(optimizer=\"rmsprop\", loss=\"categorical_crossentropy\", metrics=[\"accuracy\"])\n",
    "\n",
    "model.fit(\n",
    "    X_train.reshape(60000, 28, 28, 1),\n",
    "    y_train,\n",
    "    epochs=80,\n",
    "    batch_size=1000)"
   ]
  }
 ],
 "metadata": {
  "accelerator": "GPU",
  "colab": {
   "name": "Google Colab.ipynb",
   "provenance": []
  },
  "kernelspec": {
   "display_name": "Python 3",
   "language": "python",
   "name": "python3"
  },
  "language_info": {
   "codemirror_mode": {
    "name": "ipython",
    "version": 3
   },
   "file_extension": ".py",
   "mimetype": "text/x-python",
   "name": "python",
   "nbconvert_exporter": "python",
   "pygments_lexer": "ipython3",
   "version": "3.6.9"
  }
 },
 "nbformat": 4,
 "nbformat_minor": 1
}
