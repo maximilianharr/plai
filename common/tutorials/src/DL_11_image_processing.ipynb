{
 "cells": [
  {
   "cell_type": "code",
   "execution_count": null,
   "metadata": {},
   "outputs": [],
   "source": []
  },
  {
   "cell_type": "code",
   "execution_count": null,
   "metadata": {},
   "outputs": [],
   "source": [
    "# imports\n",
    "from PIL import Image\n",
    "from PIL import ImageDraw"
   ]
  },
  {
   "cell_type": "code",
   "execution_count": null,
   "metadata": {},
   "outputs": [],
   "source": [
    "# Resize image\n",
    "img = Image.open(\"../res/bild1.jpg\")\n",
    "img = img.resize( (round(img.size[0]/10), round(img.size[1]/10)), resample=Image.BICUBIC)\n",
    "img"
   ]
  },
  {
   "cell_type": "code",
   "execution_count": null,
   "metadata": {},
   "outputs": [],
   "source": [
    "# Rotate image\n",
    "img.rotate(45, expand=True)"
   ]
  },
  {
   "cell_type": "code",
   "execution_count": null,
   "metadata": {},
   "outputs": [],
   "source": [
    "# Save image\n",
    "img.save(\"/tmp/image.jpg\")"
   ]
  },
  {
   "cell_type": "code",
   "execution_count": null,
   "metadata": {},
   "outputs": [],
   "source": [
    "# Draw line in image\n",
    "draw = ImageDraw.Draw(img)\n",
    "\n",
    "points = [ (0,0), (100, 100), (0, 100)]\n",
    "draw.line(points, \"red\", 5)\n",
    "img"
   ]
  },
  {
   "cell_type": "code",
   "execution_count": null,
   "metadata": {},
   "outputs": [],
   "source": [
    "# Draw rectangle in image (width always 1 pixel!)\n",
    "draw.rectangle([(50, 50), (70, 70)],\n",
    "               outline=\"yellow\")\n",
    "img"
   ]
  },
  {
   "cell_type": "code",
   "execution_count": null,
   "metadata": {},
   "outputs": [],
   "source": [
    "# Draw rectangle as line (width can be adjusted)\n",
    "draw.line([\n",
    "    (30, 30),\n",
    "    (30, 80),\n",
    "    (80, 80),\n",
    "    (80, 30),\n",
    "    (30, 30)],\n",
    "    \"blue\", 10\n",
    ")\n",
    "\n",
    "img"
   ]
  },
  {
   "cell_type": "code",
   "execution_count": null,
   "metadata": {},
   "outputs": [],
   "source": [
    "# Crop image\n",
    "img.crop((10, 10, 90, 90))"
   ]
  },
  {
   "cell_type": "code",
   "execution_count": null,
   "metadata": {},
   "outputs": [],
   "source": [
    "# Make np.array\n",
    "import numpy as np\n",
    "import matplotlib.pyplot as plt\n",
    "\n",
    "i = np.asarray(img)/255.\n",
    "\n",
    "%matplotlib inline\n",
    "plt.imshow(i)"
   ]
  },
  {
   "cell_type": "code",
   "execution_count": null,
   "metadata": {},
   "outputs": [],
   "source": [
    "#\n",
    "import albumentations as A\n",
    "import cv2\n",
    "\n",
    "img2 = cv2.imread(\"../res/bild1.jpg\")[:,:,::-1]\n",
    "img2 = cv2.resize(img2, (0,0), fx=0.1, fy=0.1) \n",
    "plt.imshow(small)"
   ]
  },
  {
   "cell_type": "code",
   "execution_count": null,
   "metadata": {},
   "outputs": [],
   "source": [
    "# kudos to reigHns\n",
    "# https://www.kaggle.com/reighns/augmentations-data-cleaning-and-bounding-boxes\n",
    "\n",
    "albumentation_list = [A.RandomSunFlare(p=1), A.RandomFog(p=1), A.RandomBrightness(p=1),\n",
    "                      A.RandomCrop(p=1,height = 100, width = 100), A.Rotate(p=1, limit=90),\n",
    "                      A.RGBShift(p=1), A.RandomSnow(p=1),\n",
    "                      A.HorizontalFlip(p=1), A.VerticalFlip(p=1), A.RandomContrast(limit = 0.5,p = 1),\n",
    "                      A.HueSaturationValue(p=1,hue_shift_limit=20, sat_shift_limit=30, val_shift_limit=50)]\n",
    "\n",
    "img_matrix_list = []\n",
    "bboxes_list = []\n",
    "for aug_type in albumentation_list:\n",
    "    img = aug_type(image = img2)['image']\n",
    "    img_matrix_list.append(img)\n",
    "\n",
    "img_matrix_list.insert(0,img2)    \n",
    "\n",
    "titles_list = [\"Original\",\"RandomSunFlare\",\"RandomFog\",\"RandomBrightness\",\n",
    "               \"RandomCrop\",\"Rotate\", \"RGBShift\", \"RandomSnow\",\"HorizontalFlip\", \"VerticalFlip\", \"RandomContrast\",\"HSV\"]\n",
    "\n",
    "##reminder of helper function\n",
    "def plot_multiple_img(img_matrix_list, title_list, ncols, main_title=\"\"):\n",
    "    fig, myaxes = plt.subplots(figsize=(20, 15), nrows=3, ncols=ncols, squeeze=False)\n",
    "    fig.suptitle(main_title, fontsize = 30)\n",
    "    fig.subplots_adjust(wspace=0.3)\n",
    "    fig.subplots_adjust(hspace=0.3)\n",
    "    for i, (img, title) in enumerate(zip(img_matrix_list, title_list)):\n",
    "        myaxes[i // ncols][i % ncols].imshow(img)\n",
    "        myaxes[i // ncols][i % ncols].set_title(title, fontsize=15)\n",
    "    plt.show()\n",
    "    \n",
    "plot_multiple_img(img_matrix_list, titles_list, ncols = 4,main_title=\"Different Types of Augmentations\")\n",
    "\n"
   ]
  }
 ],
 "metadata": {
  "kernelspec": {
   "display_name": "Python 3",
   "language": "python",
   "name": "python3"
  },
  "language_info": {
   "codemirror_mode": {
    "name": "ipython",
    "version": 3
   },
   "file_extension": ".py",
   "mimetype": "text/x-python",
   "name": "python",
   "nbconvert_exporter": "python",
   "pygments_lexer": "ipython3",
   "version": "3.8.2"
  }
 },
 "nbformat": 4,
 "nbformat_minor": 4
}
