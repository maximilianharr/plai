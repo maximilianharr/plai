{
 "cells": [
  {
   "cell_type": "code",
   "execution_count": null,
   "metadata": {},
   "outputs": [],
   "source": [
    "# imports\n",
    "import pandas as pd\n",
    "import numpy as np\n",
    "from sklearn.model_selection import KFold\n",
    "from sklearn.linear_model import LinearRegression\n",
    "from sklearn.model_selection import cross_val_score\n",
    "from sklearn.model_selection import RepeatedKFold"
   ]
  },
  {
   "cell_type": "code",
   "execution_count": null,
   "metadata": {},
   "outputs": [],
   "source": [
    "# Read CSV\n",
    "df = pd.read_csv(\"../res/hotels.csv\")\n",
    "print(df)"
   ]
  },
  {
   "cell_type": "code",
   "execution_count": null,
   "metadata": {},
   "outputs": [],
   "source": [
    "# Convert data\n",
    "x = df[[\"Gewinn\", \"Quadratmeter\"]].values\n",
    "y = df[[\"Preis in Mio\"]].values"
   ]
  },
  {
   "cell_type": "code",
   "execution_count": null,
   "metadata": {},
   "outputs": [],
   "source": [
    "x[[0,1]]"
   ]
  },
  {
   "cell_type": "code",
   "execution_count": null,
   "metadata": {},
   "outputs": [],
   "source": [
    "# k-fold data split\n",
    "kf = KFold(n_splits=3)#, shuffle = True)\n",
    "\n",
    "for train_index, test_index in kf.split(x):\n",
    "    #print(\"train: \", train_index)\n",
    "    #print(\"test: \", test_index)\n",
    "    \n",
    "    # Split dataset\n",
    "    x_test = x[test_index]\n",
    "    x_train = x[train_index]\n",
    "    \n",
    "    y_test = y[test_index]\n",
    "    y_train = y[train_index]\n",
    "    \n",
    "    # Train model\n",
    "    model = LinearRegression()\n",
    "    model.fit(x_train, y_train)\n",
    "    \n",
    "    print(\"Score: \", model.score(x_test, y_test))\n",
    "    print(\"-----------------\")"
   ]
  },
  {
   "cell_type": "code",
   "execution_count": null,
   "metadata": {},
   "outputs": [],
   "source": [
    "# k-fold cross using built-in function\n",
    "scores = cross_val_score(LinearRegression(), x, y, cv = 3)\n",
    "\n",
    "# ... you may also use kf and provide as \"cv\"\n",
    "kf = KFold(n_splits = 3)\n",
    "scores = cross_val_score(LinearRegression(), x, y, cv = kf)\n",
    "\n",
    "print(scores)"
   ]
  },
  {
   "cell_type": "code",
   "execution_count": null,
   "metadata": {},
   "outputs": [],
   "source": [
    "# Repeated k-fold cross-validation\n",
    "rkf = RepeatedKFold(n_splits = 3, n_repeats = 4)\n",
    "scores = cross_val_score(LinearRegression(), x, y, cv = rkf)\n",
    "\n",
    "print(scores)\n",
    "print(np.mean(scores))"
   ]
  },
  {
   "cell_type": "code",
   "execution_count": null,
   "metadata": {},
   "outputs": [],
   "source": [
    "# Aufgabe repeated cross-validation on diamonds\n",
    "df2 = pd.read_csv(\"../res/diamonds.csv\")\n",
    "df2.head()\n"
   ]
  },
  {
   "cell_type": "code",
   "execution_count": null,
   "metadata": {},
   "outputs": [],
   "source": [
    "x2 = df2[[\"carat\"]].values\n",
    "y2 = df2[[\"price\"]].values\n",
    "\n",
    "# Repeated k-fold cross-validation\n",
    "rkf = RepeatedKFold(n_splits = 3, n_repeats = 40)\n",
    "scores = cross_val_score(LinearRegression(), x2, y2, cv = rkf)\n",
    "\n",
    "print(np.mean(scores))"
   ]
  },
  {
   "cell_type": "code",
   "execution_count": null,
   "metadata": {},
   "outputs": [],
   "source": [
    "x2 = df2[[\"x\", \"y\", \"z\"]].values\n",
    "y2 = df2[[\"price\"]].values\n",
    "\n",
    "# Repeated k-fold cross-validation\n",
    "rkf = RepeatedKFold(n_splits = 3, n_repeats = 40)\n",
    "scores = cross_val_score(LinearRegression(), x2, y2, cv = rkf)\n",
    "\n",
    "print(np.mean(scores))"
   ]
  }
 ],
 "metadata": {
  "kernelspec": {
   "display_name": "Python 3",
   "language": "python",
   "name": "python3"
  },
  "language_info": {
   "codemirror_mode": {
    "name": "ipython",
    "version": 3
   },
   "file_extension": ".py",
   "mimetype": "text/x-python",
   "name": "python",
   "nbconvert_exporter": "python",
   "pygments_lexer": "ipython3",
   "version": "3.6.9"
  }
 },
 "nbformat": 4,
 "nbformat_minor": 4
}
