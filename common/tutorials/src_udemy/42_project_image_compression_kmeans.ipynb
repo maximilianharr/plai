{
 "cells": [
  {
   "cell_type": "markdown",
   "metadata": {},
   "source": [
    "### Project : Image compression using kMeans\n",
    "GIF-image compression: Limit amount of colors used to visualize image instead of RGB with 256 bit depth.\n"
   ]
  },
  {
   "cell_type": "code",
   "execution_count": null,
   "metadata": {},
   "outputs": [],
   "source": [
    "# import\n",
    "import numpy as np\n",
    "import pandas as pd\n",
    "from skimage import io, exposure\n",
    "\n",
    "from sklearn.cluster import KMeans"
   ]
  },
  {
   "cell_type": "code",
   "execution_count": null,
   "metadata": {},
   "outputs": [],
   "source": [
    "# Read data\n",
    "image = io.imread('../res/dragon.png')\n",
    "\n",
    "# Remove transparancy value\n",
    "image = image[:, :, :3]"
   ]
  },
  {
   "cell_type": "code",
   "execution_count": null,
   "metadata": {},
   "outputs": [],
   "source": [
    "# Show image\n",
    "%matplotlib inline\n",
    "\n",
    "io.imshow(image)"
   ]
  },
  {
   "cell_type": "code",
   "execution_count": null,
   "metadata": {},
   "outputs": [],
   "source": [
    "# Ekurs: Make a brighter image\n",
    "image_brighter = image[:, :, :3] + 40\n",
    "image_brighter[image_brighter < image] = 255\n",
    "io.imshow(image_brighter)"
   ]
  },
  {
   "cell_type": "code",
   "execution_count": null,
   "metadata": {},
   "outputs": [],
   "source": [
    "# Reshape image for kMeans\n",
    "image_reshaped = image.reshape(-1, 3)"
   ]
  },
  {
   "cell_type": "code",
   "execution_count": null,
   "metadata": {},
   "outputs": [],
   "source": [
    "# Cluster image colors using kMeans\n",
    "model = KMeans(n_clusters = 32, n_init = 1)\n",
    "model.fit(image_reshaped)"
   ]
  },
  {
   "cell_type": "code",
   "execution_count": null,
   "metadata": {},
   "outputs": [],
   "source": [
    "# Create compressed image\n",
    "# print(model.cluster_centers_)\n",
    "# print(model.labels_)\n",
    "\n",
    "colors = model.cluster_centers_.astype(\"uint8\")\n",
    "pixels = model.labels_\n",
    "pixels.shape\n",
    " \n",
    "pixels_transformed = []\n",
    "for pixel in pixels:\n",
    "    pixels_transformed.append(colors[pixel])"
   ]
  },
  {
   "cell_type": "code",
   "execution_count": null,
   "metadata": {},
   "outputs": [],
   "source": [
    "# Visualize color clusters and compressed image\n",
    "pixels_transformed = np.array(pixels_transformed)\n",
    "image_restored = pixels_transformed.reshape(900, 1200, 3)\n",
    "\n",
    "io.imshow(image_restored)"
   ]
  },
  {
   "cell_type": "code",
   "execution_count": null,
   "metadata": {},
   "outputs": [],
   "source": [
    "# Save and open compressed image\n",
    "np.savez_compressed(\"/tmp/dragon_compressed.npz\", pixels = pixels, colors = colors)\n",
    "\n",
    "# Open image\n",
    "with np.load(\"/tmp/dragon_compressed.npz\") as file:\n",
    "    pixels = file[\"pixels\"]\n",
    "    colors = file[\"colors\"]\n",
    "    \n",
    "    pixels_transformed = []\n",
    "    for pixel in pixels:\n",
    "        pixels_transformed.append(colors[pixel])\n",
    "    io.imshow(image_restored) "
   ]
  },
  {
   "cell_type": "code",
   "execution_count": null,
   "metadata": {},
   "outputs": [],
   "source": []
  },
  {
   "cell_type": "code",
   "execution_count": null,
   "metadata": {},
   "outputs": [],
   "source": []
  }
 ],
 "metadata": {
  "kernelspec": {
   "display_name": "Python 3",
   "language": "python",
   "name": "python3"
  },
  "language_info": {
   "codemirror_mode": {
    "name": "ipython",
    "version": 3
   },
   "file_extension": ".py",
   "mimetype": "text/x-python",
   "name": "python",
   "nbconvert_exporter": "python",
   "pygments_lexer": "ipython3",
   "version": "3.6.9"
  }
 },
 "nbformat": 4,
 "nbformat_minor": 4
}
