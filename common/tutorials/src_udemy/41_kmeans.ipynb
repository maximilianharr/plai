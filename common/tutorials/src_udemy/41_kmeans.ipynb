{
 "cells": [
  {
   "cell_type": "markdown",
   "metadata": {},
   "source": [
    "### kMeans\n",
    "Label \"unlabeled\" data by finding clusters  \n",
    "<img src=\"../doc/41_kmeans.png\" alt=\"kMeans\" width=\"300\"/>\n",
    "\n",
    "#### Algorithm\n",
    "1. Create k cluster centerpoints (randomly over dataset)\n",
    "2. Assign each point to a cluster using it's distance\n",
    "3. Compute centroid of cluster point\n",
    "4. Repeat with centerpoint of cluster\n",
    "\n",
    "#### Finding k in kMeans: Elbow-Method\n",
    "Find k for kMeans, where mean distance of cluster points to center stops to decrease significantly."
   ]
  },
  {
   "cell_type": "code",
   "execution_count": null,
   "metadata": {},
   "outputs": [],
   "source": [
    "# import\n",
    "import numpy as np\n",
    "import pandas as pd\n",
    "\n",
    "from sklearn.cluster import KMeans\n",
    "from sklearn.preprocessing import StandardScaler"
   ]
  },
  {
   "cell_type": "code",
   "execution_count": null,
   "metadata": {},
   "outputs": [],
   "source": [
    "# Read CSV\n",
    "df = pd.read_csv(\"../res/autos_prepared.csv\")\n",
    "df.head()"
   ]
  },
  {
   "cell_type": "code",
   "execution_count": null,
   "metadata": {},
   "outputs": [],
   "source": [
    "# Visualize data\n",
    "%matplotlib inline\n",
    "import matplotlib.pyplot as plt\n",
    "\n",
    "plt.xlabel('Year')\n",
    "plt.ylabel('Price in €')\n",
    "plt.scatter(df[\"yearOfRegistration\"], df[\"price\"])"
   ]
  },
  {
   "cell_type": "code",
   "execution_count": null,
   "metadata": {},
   "outputs": [],
   "source": [
    "# Get data\n",
    "x = df[[\"yearOfRegistration\", \"price\"]]"
   ]
  },
  {
   "cell_type": "code",
   "execution_count": null,
   "metadata": {},
   "outputs": [],
   "source": [
    "# Scale data\n",
    "scaler = StandardScaler()\n",
    "x_transformed = scaler.fit_transform(x)"
   ]
  },
  {
   "cell_type": "code",
   "execution_count": null,
   "metadata": {},
   "outputs": [],
   "source": [
    "# Cluster data using kMeans\n",
    "model = KMeans(n_clusters = 3)\n",
    "model.fit(x_transformed)\n",
    "\n",
    "print(model.labels_)\n",
    "print(scaler.inverse_transform(model.cluster_centers_))"
   ]
  },
  {
   "cell_type": "code",
   "execution_count": null,
   "metadata": {},
   "outputs": [],
   "source": [
    "# Visualize clustered data\n",
    "%matplotlib inline\n",
    "import matplotlib.pyplot as plt\n",
    "\n",
    "plt.xlabel('Year')\n",
    "plt.ylabel('Price in €')\n",
    "plt.scatter(df[\"yearOfRegistration\"], df[\"price\"], c = model.labels_)\n",
    "\n",
    "# Plot centers (untransform)\n",
    "kmeans_centers = scaler.inverse_transform(model.cluster_centers_)\n",
    "plt.scatter(kmeans_centers[:, 0], kmeans_centers[:, 1], c = 'red', marker = 'x')"
   ]
  },
  {
   "cell_type": "code",
   "execution_count": null,
   "metadata": {},
   "outputs": [],
   "source": [
    "# Elbow-Method\n",
    "inertias = []\n",
    "for n in range(2, 10):\n",
    "    model = KMeans(n_clusters = n)\n",
    "    model.fit(x_transformed)\n",
    "    inertias.append(model.inertia_)"
   ]
  },
  {
   "cell_type": "code",
   "execution_count": null,
   "metadata": {},
   "outputs": [],
   "source": [
    "# Visualize clustered data\n",
    "%matplotlib inline\n",
    "import matplotlib.pyplot as plt\n",
    "\n",
    "plt.plot(range(2, 10), inertias)"
   ]
  },
  {
   "cell_type": "code",
   "execution_count": null,
   "metadata": {},
   "outputs": [],
   "source": []
  },
  {
   "cell_type": "code",
   "execution_count": null,
   "metadata": {},
   "outputs": [],
   "source": []
  }
 ],
 "metadata": {
  "kernelspec": {
   "display_name": "Python 3",
   "language": "python",
   "name": "python3"
  },
  "language_info": {
   "codemirror_mode": {
    "name": "ipython",
    "version": 3
   },
   "file_extension": ".py",
   "mimetype": "text/x-python",
   "name": "python",
   "nbconvert_exporter": "python",
   "pygments_lexer": "ipython3",
   "version": "3.6.9"
  }
 },
 "nbformat": 4,
 "nbformat_minor": 4
}
