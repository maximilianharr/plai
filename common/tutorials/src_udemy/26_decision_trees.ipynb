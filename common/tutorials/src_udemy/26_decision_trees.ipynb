{
 "cells": [
  {
   "cell_type": "markdown",
   "metadata": {},
   "source": [
    "### Decision Tree\n"
   ]
  },
  {
   "cell_type": "code",
   "execution_count": null,
   "metadata": {},
   "outputs": [],
   "source": [
    "# imports\n",
    "import pandas as pd\n",
    "import graphviz\n",
    "from sklearn.model_selection import train_test_split\n",
    "from sklearn.preprocessing import StandardScaler\n",
    "from sklearn.tree import DecisionTreeClassifier\n",
    "from sklearn.tree import export_graphviz"
   ]
  },
  {
   "cell_type": "code",
   "execution_count": null,
   "metadata": {},
   "outputs": [],
   "source": [
    "# Read CSV\n",
    "df = pd.read_csv(\"../res/classification.csv\")\n",
    "df.head()"
   ]
  },
  {
   "cell_type": "code",
   "execution_count": null,
   "metadata": {},
   "outputs": [],
   "source": [
    "# Prepare data\n",
    "\n",
    "x = df[[\"age\", \"interest\"]].values\n",
    "y = df[\"success\"].values\n",
    "\n",
    "x_train, x_test, y_train, y_test = train_test_split(x, y, random_state = 0, test_size = 0.25)"
   ]
  },
  {
   "cell_type": "code",
   "execution_count": null,
   "metadata": {},
   "outputs": [],
   "source": [
    "# Scale data\n",
    "# Not necessary for decision tree"
   ]
  },
  {
   "cell_type": "code",
   "execution_count": null,
   "metadata": {},
   "outputs": [],
   "source": [
    "# Train model\n",
    "model = DecisionTreeClassifier(criterion = 'entropy')\n",
    "model.fit(x_train, y_train)\n",
    "\n",
    "print(model.score(x_test, y_test))"
   ]
  },
  {
   "cell_type": "code",
   "execution_count": null,
   "metadata": {},
   "outputs": [],
   "source": [
    "# Visualize Decision Tree\n",
    "from plai.visualization.sklearn_visualization_helper import plot_classifier\n",
    "\n",
    "plot_classifier(model, x_train, y_train, proba = True, xlabel = \"Alter\", ylabel = \"Interesse\")"
   ]
  },
  {
   "cell_type": "code",
   "execution_count": null,
   "metadata": {},
   "outputs": [],
   "source": [
    "# Train simplified model\n",
    "model = DecisionTreeClassifier(criterion = 'entropy', \n",
    "                               max_depth = 4, \n",
    "                               min_samples_leaf = 3)\n",
    "model.fit(x_train, y_train)\n",
    "print(model.score(x_test, y_test))\n",
    "\n",
    "plot_classifier(model, x_train, y_train, proba = True, xlabel = \"Alter\", ylabel = \"Interesse\")"
   ]
  },
  {
   "cell_type": "code",
   "execution_count": null,
   "metadata": {},
   "outputs": [],
   "source": [
    "# Visualize decision tree\n",
    "tree =  export_graphviz(model, None, \n",
    "                        feature_names = [\"age\", \"interest\"], \n",
    "                        class_names = [\"not a buyer\", \"buyer\"],\n",
    "                        rounded = True,\n",
    "                        filled = True)\n",
    "\n",
    "src = graphviz.Source(tree, format = \"png\")\n",
    "src.render(\"/tmp/tree\")\n"
   ]
  },
  {
   "cell_type": "code",
   "execution_count": null,
   "metadata": {},
   "outputs": [],
   "source": [
    "model.predict_proba(x_test)"
   ]
  },
  {
   "cell_type": "code",
   "execution_count": null,
   "metadata": {},
   "outputs": [],
   "source": []
  }
 ],
 "metadata": {
  "kernelspec": {
   "display_name": "Python 3",
   "language": "python",
   "name": "python3"
  },
  "language_info": {
   "codemirror_mode": {
    "name": "ipython",
    "version": 3
   },
   "file_extension": ".py",
   "mimetype": "text/x-python",
   "name": "python",
   "nbconvert_exporter": "python",
   "pygments_lexer": "ipython3",
   "version": "3.6.9"
  }
 },
 "nbformat": 4,
 "nbformat_minor": 4
}
