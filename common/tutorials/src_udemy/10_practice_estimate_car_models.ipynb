{
 "cells": [
  {
   "cell_type": "code",
   "execution_count": null,
   "metadata": {},
   "outputs": [],
   "source": [
    "import pandas as pd\n",
    "from sklearn.metrics import r2_score\n",
    "from sklearn.linear_model import LinearRegression\n",
    "from sklearn.model_selection import train_test_split"
   ]
  },
  {
   "cell_type": "code",
   "execution_count": null,
   "metadata": {},
   "outputs": [],
   "source": [
    "# Read CSV\n",
    "df = pd.read_csv(\"../res/autos_prepared.csv\")"
   ]
  },
  {
   "cell_type": "code",
   "execution_count": null,
   "metadata": {},
   "outputs": [],
   "source": [
    "# Print first five rows\n",
    "df.head()"
   ]
  },
  {
   "cell_type": "code",
   "execution_count": null,
   "metadata": {},
   "outputs": [],
   "source": [
    "# Print figure\n",
    "import matplotlib.pyplot as plt\n",
    "\n",
    "plt.scatter(df[\"kilometer\"], df[\"price\"])\n",
    "plt.show()"
   ]
  },
  {
   "cell_type": "code",
   "execution_count": null,
   "metadata": {},
   "outputs": [],
   "source": [
    "# Estimate car value only using \"kilometer\"\n",
    "score = []\n",
    "\n",
    "for i in range(0, 100):\n",
    "    # Prepare data\n",
    "    X = df[[\"kilometer\"]].values\n",
    "    Y = df[[\"price\"]].values\n",
    "    \n",
    "    # Divide data in test and train set\n",
    "    x_train, x_test, y_train, y_test = train_test_split(X, Y, random_state = 0, test_size = 0.25)\n",
    "    \n",
    "    # Train model\n",
    "    model = LinearRegression()\n",
    "    model.fit(x_train, y_train)\n",
    "    \n",
    "    # Compute r2\n",
    "    score.append(model.score(x_test, y_test))\n",
    "print(\"Performace of [km]: \", sum(score)/len(score))"
   ]
  },
  {
   "cell_type": "code",
   "execution_count": null,
   "metadata": {},
   "outputs": [],
   "source": [
    "# Estimate car value using \"kilometer\" and \"ps\"\n",
    "score = []\n",
    "\n",
    "for i in range(0, 100):\n",
    "    # Prepare data\n",
    "    X = df[[\"kilometer\", \"powerPS\"]].values\n",
    "    Y = df[[\"price\"]].values\n",
    "    \n",
    "    # Divide data in test and train set\n",
    "    x_train, x_test, y_train, y_test = train_test_split(X, Y, random_state = 0, test_size = 0.25)\n",
    "    \n",
    "    # Train model\n",
    "    model = LinearRegression()\n",
    "    model.fit(x_train, y_train)\n",
    "    \n",
    "    # Compute r2\n",
    "    score.append(model.score(x_test, y_test))\n",
    "print(\"Performace of [km, ps]: \", sum(score)/len(score))"
   ]
  },
  {
   "cell_type": "code",
   "execution_count": null,
   "metadata": {},
   "outputs": [],
   "source": [
    "train_test_split?"
   ]
  }
 ],
 "metadata": {
  "kernelspec": {
   "display_name": "Python 3",
   "language": "python",
   "name": "python3"
  },
  "language_info": {
   "codemirror_mode": {
    "name": "ipython",
    "version": 3
   },
   "file_extension": ".py",
   "mimetype": "text/x-python",
   "name": "python",
   "nbconvert_exporter": "python",
   "pygments_lexer": "ipython3",
   "version": "3.6.9"
  }
 },
 "nbformat": 4,
 "nbformat_minor": 4
}
