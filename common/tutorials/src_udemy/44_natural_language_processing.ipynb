{
 "cells": [
  {
   "cell_type": "markdown",
   "metadata": {},
   "source": [
    "### Natural Language Processing\n",
    "Introduction in regular expressions\n"
   ]
  },
  {
   "cell_type": "code",
   "execution_count": null,
   "metadata": {},
   "outputs": [],
   "source": [
    "# import\n",
    "import re"
   ]
  },
  {
   "cell_type": "code",
   "execution_count": null,
   "metadata": {},
   "outputs": [],
   "source": [
    "# regular expressions\n",
    "n_bread = re.compile(\" [1234567890] \")\n",
    "price = re.compile(\" [0-9][\\.,][0-9][0-9][€$]\")\n",
    "\n",
    "print(n_bread.findall(\"Fuer 5 Knusperbroetchen habe ich 1.99€ bezahlt\"))\n",
    "print(price.findall(\"Fuer 5 Knusperbroetchen habe ich 1.99€ bezahlt\"))\n",
    "print(price.findall(\"For 5 Knusperbroetchen I paid 1,99$\"))"
   ]
  },
  {
   "cell_type": "code",
   "execution_count": null,
   "metadata": {},
   "outputs": [],
   "source": [
    "# regular expression extended\n",
    "n_bread = re.compile(\" [0-9]+ \") # + block may occur multiple times\n",
    "price = re.compile(\" [0-9]+[\\.,][0-9][0-9][€$]?\") # ? makes block optional\n",
    "price_cent = re.compile(\" [0-9]+[\\.,][0-9]{2}[€$]?\") # {n} n-times block\n",
    "\n",
    "print(n_bread.findall(\"Fuer 50 Knusperbroetchen habe ich 19.90€ bezahlt\"))\n",
    "print(price.findall(\"Fuer 50 Knusperbroetchen habe ich 19.90 bezahlt\"))\n",
    "print(price_cent.findall(\"Fuer 50 Knusperbroetchen habe ich 19.990 bezahlt\"))\n",
    "print(price_cent.findall(\"Fuer 50 Knusperbroetchen habe ich 19.90 bezahlt\"))"
   ]
  },
  {
   "cell_type": "code",
   "execution_count": null,
   "metadata": {},
   "outputs": [],
   "source": [
    "# Extract e-Mail address\n",
    "p = re.compile(\"[a-zA-Z0-9]+@[a-zA-Z0-9]+\\.[a-zA-Z0-9]+\")\n",
    "sentences = [\n",
    "    \"Hallo Welt!\",\n",
    "    \"Meine E-Mail-Adresse is hallo@plai.com\",\n",
    "    \"Plese to not respond to noreply@support.de\",\n",
    "    \"Saturday @ Hotel XYZ. Please contact events@eventim.tv\"\n",
    "]\n",
    "\n",
    "for sentence in sentences:\n",
    "    match = p.search(sentence)\n",
    "    if match:\n",
    "        print(match)\n",
    "\n",
    "# Note that email rules are much more complicated!\n",
    "# "
   ]
  },
  {
   "cell_type": "code",
   "execution_count": null,
   "metadata": {},
   "outputs": [],
   "source": [
    "# Finding a date\n",
    "p = re.compile(\"[0-9]{2}\\.[0-9]{2}\\.[0-9]{4}\")\n",
    "\n",
    "print(p.findall(\"Bob Marley 06.02.1945\"))"
   ]
  },
  {
   "cell_type": "code",
   "execution_count": null,
   "metadata": {},
   "outputs": [],
   "source": []
  }
 ],
 "metadata": {
  "kernelspec": {
   "display_name": "Python 3",
   "language": "python",
   "name": "python3"
  },
  "language_info": {
   "codemirror_mode": {
    "name": "ipython",
    "version": 3
   },
   "file_extension": ".py",
   "mimetype": "text/x-python",
   "name": "python",
   "nbconvert_exporter": "python",
   "pygments_lexer": "ipython3",
   "version": "3.6.9"
  }
 },
 "nbformat": 4,
 "nbformat_minor": 4
}
